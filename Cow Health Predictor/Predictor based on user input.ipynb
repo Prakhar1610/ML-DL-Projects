{
 "cells": [
  {
   "cell_type": "markdown",
   "id": "cb2b0fc6-cc14-401e-8ddf-b336a2d7e56e",
   "metadata": {},
   "source": [
    "## Importing necessary lirabries"
   ]
  },
  {
   "cell_type": "code",
   "execution_count": 1,
   "id": "934ac0f2-06d8-4822-85ec-bb2c8ece0b26",
   "metadata": {},
   "outputs": [],
   "source": [
    "import pandas as pd\n",
    "import numpy as np\n",
    "from sklearn.preprocessing import StandardScaler\n",
    "from sklearn.model_selection import train_test_split\n",
    "import joblib"
   ]
  },
  {
   "cell_type": "markdown",
   "id": "66e8520e-774f-4278-a37c-63cdb9673f5c",
   "metadata": {},
   "source": [
    "## Taking user input"
   ]
  },
  {
   "cell_type": "code",
   "execution_count": 2,
   "id": "0338634e-2e98-443b-b8a3-238bf9c7d6af",
   "metadata": {},
   "outputs": [
    {
     "name": "stdin",
     "output_type": "stream",
     "text": [
      "Enter body temperature:  39.6\n",
      "Enter breed type:  Cross Breed\n",
      "Enter milk production:  5.1\n",
      "Enter respiratory rate:  20\n",
      "Enter walking capacity:  5289\n",
      "Enter sleeping duration:  6.1\n",
      "Enter body condition score:  1\n",
      "Enter heart rate:  42\n",
      "Enter eating duration:  1.6\n",
      "Enter lying down duration:  16.3\n",
      "Enter ruminating:  3\n",
      "Enter rumen fill:  1\n",
      "Enter faecal consistency:  very liquid faeces\n"
     ]
    }
   ],
   "source": [
    "p1 = float(input(\"Enter body temperature: \"))\n",
    "p2 = str(input(\"Enter breed type: \"))\n",
    "p3 = float(input(\"Enter milk production: \"))\n",
    "p4 = int(input(\"Enter respiratory rate: \"))\n",
    "p5 = int(input(\"Enter walking capacity: \"))\n",
    "p6 = float(input(\"Enter sleeping duration: \"))\n",
    "p7 = int(input(\"Enter body condition score: \"))\n",
    "p8 = int(input(\"Enter heart rate: \"))\n",
    "p9 = float(input(\"Enter eating duration: \"))\n",
    "p10 = float(input(\"Enter lying down duration: \"))\n",
    "p11 = float(input(\"Enter ruminating: \"))\n",
    "p12 = int(input(\"Enter rumen fill: \"))\n",
    "p13 = str(input(\"Enter faecal consistency: \"))"
   ]
  },
  {
   "cell_type": "markdown",
   "id": "8d6e2a4b-97ac-44c8-99f7-d209ae0f6607",
   "metadata": {},
   "source": [
    "## Making dictionary of the user input"
   ]
  },
  {
   "cell_type": "code",
   "execution_count": 3,
   "id": "8533eb36-bf30-429f-8a74-947dfbd9273b",
   "metadata": {},
   "outputs": [],
   "source": [
    "dict = {'body_temperature': [p1], 'breed_type': [p2], 'milk_production': [p3], 'respiratory_rate': [p4], 'walking_capacity': [p5], \n",
    "        'sleeping_duration': [p6], 'body_condition_score': [p7], 'heart_rate': [p8], 'eating_duration': [p9], 'lying_down_duration': [p10], \n",
    "        'ruminating': [p11], 'rumen_fill': [p12], 'faecal_consistency': [p13]}"
   ]
  },
  {
   "cell_type": "markdown",
   "id": "3bb83bdb-9eaf-4889-a081-4db23faf3f58",
   "metadata": {},
   "source": [
    "## Making a dataframe of dictionary"
   ]
  },
  {
   "cell_type": "code",
   "execution_count": 4,
   "id": "b196f779-d3dd-444d-86fb-d691c85cab8e",
   "metadata": {},
   "outputs": [
    {
     "data": {
      "text/html": [
       "<div>\n",
       "<style scoped>\n",
       "    .dataframe tbody tr th:only-of-type {\n",
       "        vertical-align: middle;\n",
       "    }\n",
       "\n",
       "    .dataframe tbody tr th {\n",
       "        vertical-align: top;\n",
       "    }\n",
       "\n",
       "    .dataframe thead th {\n",
       "        text-align: right;\n",
       "    }\n",
       "</style>\n",
       "<table border=\"1\" class=\"dataframe\">\n",
       "  <thead>\n",
       "    <tr style=\"text-align: right;\">\n",
       "      <th></th>\n",
       "      <th>body_temperature</th>\n",
       "      <th>breed_type</th>\n",
       "      <th>milk_production</th>\n",
       "      <th>respiratory_rate</th>\n",
       "      <th>walking_capacity</th>\n",
       "      <th>sleeping_duration</th>\n",
       "      <th>body_condition_score</th>\n",
       "      <th>heart_rate</th>\n",
       "      <th>eating_duration</th>\n",
       "      <th>lying_down_duration</th>\n",
       "      <th>ruminating</th>\n",
       "      <th>rumen_fill</th>\n",
       "      <th>faecal_consistency</th>\n",
       "    </tr>\n",
       "  </thead>\n",
       "  <tbody>\n",
       "    <tr>\n",
       "      <th>0</th>\n",
       "      <td>39.6</td>\n",
       "      <td>Cross Breed</td>\n",
       "      <td>5.1</td>\n",
       "      <td>20</td>\n",
       "      <td>5289</td>\n",
       "      <td>6.1</td>\n",
       "      <td>1</td>\n",
       "      <td>42</td>\n",
       "      <td>1.6</td>\n",
       "      <td>16.3</td>\n",
       "      <td>3.0</td>\n",
       "      <td>1</td>\n",
       "      <td>very liquid faeces</td>\n",
       "    </tr>\n",
       "  </tbody>\n",
       "</table>\n",
       "</div>"
      ],
      "text/plain": [
       "   body_temperature   breed_type  milk_production  respiratory_rate  \\\n",
       "0              39.6  Cross Breed              5.1                20   \n",
       "\n",
       "   walking_capacity  sleeping_duration  body_condition_score  heart_rate  \\\n",
       "0              5289                6.1                     1          42   \n",
       "\n",
       "   eating_duration  lying_down_duration  ruminating  rumen_fill  \\\n",
       "0              1.6                 16.3         3.0           1   \n",
       "\n",
       "   faecal_consistency  \n",
       "0  very liquid faeces  "
      ]
     },
     "execution_count": 4,
     "metadata": {},
     "output_type": "execute_result"
    }
   ],
   "source": [
    "df = pd.DataFrame(dict)\n",
    "df"
   ]
  },
  {
   "cell_type": "markdown",
   "id": "a2f63069-8725-4cb2-9a04-25c1ecac6a12",
   "metadata": {},
   "source": [
    "## Data Preprocessing"
   ]
  },
  {
   "cell_type": "code",
   "execution_count": 5,
   "id": "10ae2e70-7f76-4843-8f34-a2913c61c663",
   "metadata": {},
   "outputs": [],
   "source": [
    "def change(x):\n",
    "    if x == 'Black faece':\n",
    "        x = 'Black faeces'\n",
    "    elif x == 'Fresh blood in faece':\n",
    "        x = 'Fresh blood in faeces'\n",
    "    elif x == 'very liquid faece':\n",
    "        x = 'very liquid faeces'\n",
    "    return x\n",
    "\n",
    "faecal_consistency_update = df['faecal_consistency']\n",
    "t = faecal_consistency_update.map(change)\n",
    "df['faecal_consistency'] = t"
   ]
  },
  {
   "cell_type": "code",
   "execution_count": 6,
   "id": "9646eb76-7f20-494a-b0a5-b182aa2144d5",
   "metadata": {},
   "outputs": [],
   "source": [
    "df['body_condition_score'] = df['body_condition_score'].astype(str)"
   ]
  },
  {
   "cell_type": "markdown",
   "id": "b79dc821-ef27-4574-8637-412c209c56be",
   "metadata": {},
   "source": [
    "Applying One Hot Encoding on categorical columns"
   ]
  },
  {
   "cell_type": "code",
   "execution_count": 7,
   "id": "bb9eb7df-ffc1-46bd-adf5-67051c9e70f5",
   "metadata": {},
   "outputs": [],
   "source": [
    "dummies = pd.get_dummies(df[['breed_type', 'body_condition_score', 'faecal_consistency']] , dtype='int')\n",
    "df = pd.concat([df , dummies] ,axis=1)\n",
    "df.drop(['breed_type', 'body_condition_score', 'faecal_consistency'] , axis=1 , inplace=True)"
   ]
  },
  {
   "cell_type": "markdown",
   "id": "60237151-c77a-4e21-bf5b-fbc96ae4b2a5",
   "metadata": {},
   "source": [
    "## Making an empty dataframe with all possible value of categorical field after one hot encoding"
   ]
  },
  {
   "cell_type": "markdown",
   "id": "758a03d5-1656-4750-97ed-5503a1b37ac8",
   "metadata": {},
   "source": [
    "This step is required because we have to match the dimensionality(number of columns) of dataset which is used in Nueral Network model."
   ]
  },
  {
   "cell_type": "code",
   "execution_count": 8,
   "id": "cc93ff4a-f572-4c3d-b895-eaf9b22e17b3",
   "metadata": {},
   "outputs": [
    {
     "data": {
      "text/html": [
       "<div>\n",
       "<style scoped>\n",
       "    .dataframe tbody tr th:only-of-type {\n",
       "        vertical-align: middle;\n",
       "    }\n",
       "\n",
       "    .dataframe tbody tr th {\n",
       "        vertical-align: top;\n",
       "    }\n",
       "\n",
       "    .dataframe thead th {\n",
       "        text-align: right;\n",
       "    }\n",
       "</style>\n",
       "<table border=\"1\" class=\"dataframe\">\n",
       "  <thead>\n",
       "    <tr style=\"text-align: right;\">\n",
       "      <th></th>\n",
       "      <th>body_temperature</th>\n",
       "      <th>milk_production</th>\n",
       "      <th>respiratory_rate</th>\n",
       "      <th>walking_capacity</th>\n",
       "      <th>sleeping_duration</th>\n",
       "      <th>heart_rate</th>\n",
       "      <th>eating_duration</th>\n",
       "      <th>lying_down_duration</th>\n",
       "      <th>ruminating</th>\n",
       "      <th>rumen_fill</th>\n",
       "      <th>...</th>\n",
       "      <th>body_condition_score_1</th>\n",
       "      <th>body_condition_score_2</th>\n",
       "      <th>body_condition_score_3</th>\n",
       "      <th>body_condition_score_4</th>\n",
       "      <th>body_condition_score_5</th>\n",
       "      <th>faecal_consistency_Black faeces</th>\n",
       "      <th>faecal_consistency_Fresh blood in faeces</th>\n",
       "      <th>faecal_consistency_extremely firm</th>\n",
       "      <th>faecal_consistency_ideal</th>\n",
       "      <th>faecal_consistency_very liquid faeces</th>\n",
       "    </tr>\n",
       "  </thead>\n",
       "  <tbody>\n",
       "    <tr>\n",
       "      <th>0</th>\n",
       "      <td>39.6</td>\n",
       "      <td>5.1</td>\n",
       "      <td>20</td>\n",
       "      <td>5289</td>\n",
       "      <td>6.1</td>\n",
       "      <td>42</td>\n",
       "      <td>1.6</td>\n",
       "      <td>16.3</td>\n",
       "      <td>3.0</td>\n",
       "      <td>1</td>\n",
       "      <td>...</td>\n",
       "      <td>1</td>\n",
       "      <td>0</td>\n",
       "      <td>0</td>\n",
       "      <td>0</td>\n",
       "      <td>0</td>\n",
       "      <td>0</td>\n",
       "      <td>0</td>\n",
       "      <td>0</td>\n",
       "      <td>0</td>\n",
       "      <td>1</td>\n",
       "    </tr>\n",
       "  </tbody>\n",
       "</table>\n",
       "<p>1 rows × 22 columns</p>\n",
       "</div>"
      ],
      "text/plain": [
       "   body_temperature  milk_production  respiratory_rate  walking_capacity  \\\n",
       "0              39.6              5.1                20              5289   \n",
       "\n",
       "   sleeping_duration  heart_rate  eating_duration  lying_down_duration  \\\n",
       "0                6.1          42              1.6                 16.3   \n",
       "\n",
       "   ruminating  rumen_fill  ...  body_condition_score_1  \\\n",
       "0         3.0           1  ...                       1   \n",
       "\n",
       "   body_condition_score_2  body_condition_score_3  body_condition_score_4  \\\n",
       "0                       0                       0                       0   \n",
       "\n",
       "   body_condition_score_5  faecal_consistency_Black faeces  \\\n",
       "0                       0                                0   \n",
       "\n",
       "   faecal_consistency_Fresh blood in faeces  \\\n",
       "0                                         0   \n",
       "\n",
       "   faecal_consistency_extremely firm  faecal_consistency_ideal  \\\n",
       "0                                  0                         0   \n",
       "\n",
       "   faecal_consistency_very liquid faeces  \n",
       "0                                      1  \n",
       "\n",
       "[1 rows x 22 columns]"
      ]
     },
     "execution_count": 8,
     "metadata": {},
     "output_type": "execute_result"
    }
   ],
   "source": [
    "df1 = pd.read_excel('C:/Users/dell/Documents/tenserflow/Cow Health Predictor/X_train.xlsx')\n",
    "df1.drop(df1.columns[df1.columns.str.contains('unnamed',case = False)],axis = 1, inplace = True)\n",
    "df = df.reindex(columns=df1.columns, fill_value=0)\n",
    "df"
   ]
  },
  {
   "cell_type": "code",
   "execution_count": 9,
   "id": "047a6018-ec86-4f55-af5a-21ba5615241c",
   "metadata": {},
   "outputs": [
    {
     "data": {
      "text/plain": [
       "array([[ 0.66166631, -1.45451748, -0.92741918, -1.21930663,  0.73883946,\n",
       "        -0.92806177, -1.72609215,  1.52860544, -1.72366322, -1.76093504,\n",
       "         0.93743687, -0.93743687,  2.69567555, -0.57735027, -0.74161985,\n",
       "        -0.37096453, -0.42538498, -0.35675303, -0.34222378, -0.42538498,\n",
       "        -1.        ,  2.59807621]])"
      ]
     },
     "execution_count": 9,
     "metadata": {},
     "output_type": "execute_result"
    }
   ],
   "source": [
    "scaler = StandardScaler()\n",
    "scaled = scaler.fit_transform(df1)\n",
    "scaled2 = scaler.transform(df)\n",
    "scaled2"
   ]
  },
  {
   "cell_type": "markdown",
   "id": "2acd97d8-0eee-4322-ba34-c3b3153266fb",
   "metadata": {},
   "source": [
    "## Loading the model"
   ]
  },
  {
   "cell_type": "code",
   "execution_count": 10,
   "id": "ceb2b668-8189-477e-89fa-e58849162197",
   "metadata": {},
   "outputs": [],
   "source": [
    "model = joblib.load('Cow Health Predictor Final.pkl')"
   ]
  },
  {
   "cell_type": "code",
   "execution_count": 11,
   "id": "7a1ca039-8de7-4fb3-8d57-59ad7a26b8f3",
   "metadata": {},
   "outputs": [
    {
     "name": "stdout",
     "output_type": "stream",
     "text": [
      "\u001b[1m1/1\u001b[0m \u001b[32m━━━━━━━━━━━━━━━━━━━━\u001b[0m\u001b[37m\u001b[0m \u001b[1m0s\u001b[0m 77ms/step\n"
     ]
    }
   ],
   "source": [
    "predicted_health_status = model.predict(scaled2)"
   ]
  },
  {
   "cell_type": "code",
   "execution_count": 12,
   "id": "6655f560-bba1-48f4-8a5c-4168d1654e49",
   "metadata": {},
   "outputs": [
    {
     "data": {
      "text/plain": [
       "array([[9.9996305e-01, 3.6903941e-05]], dtype=float32)"
      ]
     },
     "execution_count": 12,
     "metadata": {},
     "output_type": "execute_result"
    }
   ],
   "source": [
    "predicted_health_status"
   ]
  },
  {
   "cell_type": "code",
   "execution_count": 13,
   "id": "11001aa8-e690-4262-bf53-a1160fcf6e12",
   "metadata": {},
   "outputs": [
    {
     "name": "stdout",
     "output_type": "stream",
     "text": [
      "unhealthy\n"
     ]
    }
   ],
   "source": [
    "result = \"\"\n",
    "if(np.argmax(predicted_health_status) == 1):\n",
    "    result = \"healthy\" \n",
    "    print(result)\n",
    "else:\n",
    "    result = \"unhealthy\"\n",
    "    print(result)"
   ]
  },
  {
   "cell_type": "code",
   "execution_count": null,
   "id": "2adb6659-a9d9-47d5-a9be-1f8b3d8c680c",
   "metadata": {},
   "outputs": [],
   "source": []
  }
 ],
 "metadata": {
  "kernelspec": {
   "display_name": "Python 3 (ipykernel)",
   "language": "python",
   "name": "python3"
  },
  "language_info": {
   "codemirror_mode": {
    "name": "ipython",
    "version": 3
   },
   "file_extension": ".py",
   "mimetype": "text/x-python",
   "name": "python",
   "nbconvert_exporter": "python",
   "pygments_lexer": "ipython3",
   "version": "3.12.4"
  }
 },
 "nbformat": 4,
 "nbformat_minor": 5
}
