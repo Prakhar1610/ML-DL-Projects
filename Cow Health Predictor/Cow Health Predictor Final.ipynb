{
 "cells": [
  {
   "cell_type": "code",
   "execution_count": 1,
   "id": "3c1726de-4890-4517-85ad-27aaddc0dfd6",
   "metadata": {},
   "outputs": [],
   "source": [
    "import pandas as pd\n",
    "import numpy as np\n",
    "import tensorflow as tf\n",
    "from tensorflow import keras\n",
    "import matplotlib.pyplot as plt\n",
    "from sklearn.model_selection import train_test_split\n",
    "from sklearn.preprocessing import StandardScaler\n",
    "import seaborn as sn\n",
    "import joblib"
   ]
  },
  {
   "cell_type": "code",
   "execution_count": 2,
   "id": "fde56fed-182e-414d-b9f9-0e32e7007055",
   "metadata": {},
   "outputs": [],
   "source": [
    "df = pd.read_excel('C:/Users/dell/Documents/tenserflow/Cow Health Predictor/cattle_dataset.xlsx')"
   ]
  },
  {
   "cell_type": "code",
   "execution_count": 3,
   "id": "1e5b1ece-3054-4f77-8226-f18981f433f4",
   "metadata": {},
   "outputs": [],
   "source": [
    "def change(x):\n",
    "    if x == 'Black faece':\n",
    "        x = 'Black faeces'\n",
    "    elif x == 'Fresh blood in faece':\n",
    "        x = 'Fresh blood in faeces'\n",
    "    elif x == 'very liquid faece':\n",
    "        x = 'very liquid faeces'\n",
    "    return x\n",
    "\n",
    "faecal_consistency_update = df['faecal_consistency']\n",
    "t = faecal_consistency_update.map(change)\n",
    "df['faecal_consistency'] = t"
   ]
  },
  {
   "cell_type": "code",
   "execution_count": 4,
   "id": "407a5b80-7b3f-40c6-af75-b30489b1d57c",
   "metadata": {},
   "outputs": [],
   "source": [
    "df['body_condition_score'] = df['body_condition_score'].astype(str)"
   ]
  },
  {
   "cell_type": "code",
   "execution_count": 5,
   "id": "d770222d-5ed4-48af-9963-b572a5181d2e",
   "metadata": {},
   "outputs": [],
   "source": [
    "dummies = pd.get_dummies(df[['breed_type', 'body_condition_score', 'faecal_consistency']] , dtype='int') "
   ]
  },
  {
   "cell_type": "code",
   "execution_count": 6,
   "id": "2ca28427-d6de-4a96-b744-1bf06f986881",
   "metadata": {},
   "outputs": [],
   "source": [
    "df = pd.concat([df , dummies] ,axis=1)"
   ]
  },
  {
   "cell_type": "code",
   "execution_count": 7,
   "id": "959ce10c-8a12-4a1a-a431-1c5be922f420",
   "metadata": {},
   "outputs": [],
   "source": [
    "df.drop(['breed_type', 'body_condition_score', 'faecal_consistency'] , axis=1 , inplace=True)"
   ]
  },
  {
   "cell_type": "code",
   "execution_count": 8,
   "id": "355f2573-0b28-4fa4-8a41-a0cfc3f65c91",
   "metadata": {},
   "outputs": [],
   "source": [
    "def partition(x):\n",
    "    if x == 'healthy':\n",
    "        return 1\n",
    "    return 0\n",
    "\n",
    "health_update = df['health_status']\n",
    "t = health_update.map(partition)\n",
    "df['health_status'] = t"
   ]
  },
  {
   "cell_type": "code",
   "execution_count": 9,
   "id": "3a8866cc-235a-4368-b592-e4efe20addc0",
   "metadata": {},
   "outputs": [],
   "source": [
    "y = df['health_status']\n",
    "X = df.drop('health_status', axis=1)"
   ]
  },
  {
   "cell_type": "code",
   "execution_count": 10,
   "id": "43eeb914-0b3d-47dc-9759-5327e9864168",
   "metadata": {},
   "outputs": [],
   "source": [
    "X_train, X_test, y_train, y_test = train_test_split(X, y, test_size=0.30, random_state=None)"
   ]
  },
  {
   "cell_type": "code",
   "execution_count": 11,
   "id": "fdf5eea0-370a-4f11-b521-24d1da4714ce",
   "metadata": {},
   "outputs": [],
   "source": [
    "scaler = StandardScaler()\n",
    "X_train = scaler.fit_transform(X_train)\n",
    "X_test = scaler.transform(X_test)"
   ]
  },
  {
   "cell_type": "code",
   "execution_count": 12,
   "id": "fe1fd971-e280-413e-b019-29761117bb27",
   "metadata": {},
   "outputs": [
    {
     "name": "stderr",
     "output_type": "stream",
     "text": [
      "C:\\Users\\dell\\AppData\\Roaming\\Python\\Python312\\site-packages\\keras\\src\\layers\\reshaping\\flatten.py:37: UserWarning: Do not pass an `input_shape`/`input_dim` argument to a layer. When using Sequential models, prefer using an `Input(shape)` object as the first layer in the model instead.\n",
      "  super().__init__(**kwargs)\n",
      "C:\\Users\\dell\\AppData\\Roaming\\Python\\Python312\\site-packages\\keras\\src\\layers\\core\\dense.py:87: UserWarning: Do not pass an `input_shape`/`input_dim` argument to a layer. When using Sequential models, prefer using an `Input(shape)` object as the first layer in the model instead.\n",
      "  super().__init__(activity_regularizer=activity_regularizer, **kwargs)\n"
     ]
    }
   ],
   "source": [
    "model = keras.Sequential([\n",
    "    keras.layers.Flatten(input_shape=(X_train.shape[1],)),\n",
    "    keras.layers.Dense(64, input_shape=(X_train.shape[1],), activation='relu'),\n",
    "    keras.layers.Dense(32, activation='relu'),\n",
    "    keras.layers.Dense(len(y.unique()), activation='softmax')\n",
    "])\n",
    "\n",
    "model.compile(\n",
    "    optimizer='adam',\n",
    "    loss='sparse_categorical_crossentropy',\n",
    "    metrics=['accuracy']\n",
    ")"
   ]
  },
  {
   "cell_type": "code",
   "execution_count": 13,
   "id": "ed88b14d-1a77-4f76-9e89-356f718789ab",
   "metadata": {},
   "outputs": [
    {
     "name": "stdout",
     "output_type": "stream",
     "text": [
      "Epoch 1/5\n",
      "\u001b[1m4/4\u001b[0m \u001b[32m━━━━━━━━━━━━━━━━━━━━\u001b[0m\u001b[37m\u001b[0m \u001b[1m1s\u001b[0m 4ms/step - accuracy: 0.6392 - loss: 0.5612\n",
      "Epoch 2/5\n",
      "\u001b[1m4/4\u001b[0m \u001b[32m━━━━━━━━━━━━━━━━━━━━\u001b[0m\u001b[37m\u001b[0m \u001b[1m0s\u001b[0m 2ms/step - accuracy: 0.6737 - loss: 0.4548 \n",
      "Epoch 3/5\n",
      "\u001b[1m4/4\u001b[0m \u001b[32m━━━━━━━━━━━━━━━━━━━━\u001b[0m\u001b[37m\u001b[0m \u001b[1m0s\u001b[0m 2ms/step - accuracy: 0.9640 - loss: 0.3340 \n",
      "Epoch 4/5\n",
      "\u001b[1m4/4\u001b[0m \u001b[32m━━━━━━━━━━━━━━━━━━━━\u001b[0m\u001b[37m\u001b[0m \u001b[1m0s\u001b[0m 2ms/step - accuracy: 0.9683 - loss: 0.2541 \n",
      "Epoch 5/5\n",
      "\u001b[1m4/4\u001b[0m \u001b[32m━━━━━━━━━━━━━━━━━━━━\u001b[0m\u001b[37m\u001b[0m \u001b[1m0s\u001b[0m 2ms/step - accuracy: 0.9674 - loss: 0.1992 \n"
     ]
    },
    {
     "data": {
      "text/plain": [
       "<keras.src.callbacks.history.History at 0x20784b273b0>"
      ]
     },
     "execution_count": 13,
     "metadata": {},
     "output_type": "execute_result"
    }
   ],
   "source": [
    "model.fit(X_train, y_train, epochs=5)"
   ]
  },
  {
   "cell_type": "code",
   "execution_count": 14,
   "id": "ab55103e-c27b-4cc3-9017-646bd37d49f6",
   "metadata": {},
   "outputs": [
    {
     "data": {
      "text/plain": [
       "['Cow Health Predictor Final.pkl']"
      ]
     },
     "execution_count": 14,
     "metadata": {},
     "output_type": "execute_result"
    }
   ],
   "source": [
    "joblib.dump(model, 'Cow Health Predictor Final.pkl')"
   ]
  },
  {
   "cell_type": "code",
   "execution_count": null,
   "id": "927f51aa-0a94-44c6-8e00-8cf1fc6a9150",
   "metadata": {},
   "outputs": [],
   "source": []
  }
 ],
 "metadata": {
  "kernelspec": {
   "display_name": "Python 3 (ipykernel)",
   "language": "python",
   "name": "python3"
  },
  "language_info": {
   "codemirror_mode": {
    "name": "ipython",
    "version": 3
   },
   "file_extension": ".py",
   "mimetype": "text/x-python",
   "name": "python",
   "nbconvert_exporter": "python",
   "pygments_lexer": "ipython3",
   "version": "3.12.4"
  }
 },
 "nbformat": 4,
 "nbformat_minor": 5
}
