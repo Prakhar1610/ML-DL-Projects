{
 "cells": [
  {
   "cell_type": "markdown",
   "id": "3e28bc90-da34-46b0-a256-b77b984486fb",
   "metadata": {},
   "source": [
    "# Cow Health Predictor"
   ]
  },
  {
   "cell_type": "markdown",
   "id": "241cbdfe-4dcc-4e55-9e6f-7dd19321a5e1",
   "metadata": {},
   "source": [
    "## 1) Import Necessary Libraries"
   ]
  },
  {
   "cell_type": "code",
   "execution_count": 1,
   "id": "692ba59f-3ef5-446a-987d-f74e978fe075",
   "metadata": {},
   "outputs": [],
   "source": [
    "import pandas as pd\n",
    "import numpy as np\n",
    "import tensorflow as tf\n",
    "from tensorflow import keras\n",
    "import matplotlib.pyplot as plt\n",
    "from sklearn.model_selection import train_test_split\n",
    "from sklearn.preprocessing import StandardScaler"
   ]
  },
  {
   "cell_type": "markdown",
   "id": "eeb8783d-7872-4366-9444-7107c5b52c79",
   "metadata": {},
   "source": [
    "## 2) Load the dataset"
   ]
  },
  {
   "cell_type": "code",
   "execution_count": 2,
   "id": "5f73345c-0903-4895-bfde-1285003d50fe",
   "metadata": {},
   "outputs": [],
   "source": [
    "df = pd.read_excel('C:/Users/dell/Documents/tenserflow/Cow Health Predictor/cattle_dataset.xlsx')"
   ]
  },
  {
   "cell_type": "markdown",
   "id": "51681e86-7a00-4a54-9f0d-89bcf670c7ec",
   "metadata": {},
   "source": [
    "## 3) Initial Data Exploration"
   ]
  },
  {
   "cell_type": "markdown",
   "id": "c0083de3-9968-4eeb-8bdf-9bc0db915dc7",
   "metadata": {},
   "source": [
    "### 3.1) Displaying the first few rows of the dataset"
   ]
  },
  {
   "cell_type": "code",
   "execution_count": 3,
   "id": "95361943-3dbb-48a9-ab32-bc12f54aec4f",
   "metadata": {},
   "outputs": [
    {
     "data": {
      "text/html": [
       "<div>\n",
       "<style scoped>\n",
       "    .dataframe tbody tr th:only-of-type {\n",
       "        vertical-align: middle;\n",
       "    }\n",
       "\n",
       "    .dataframe tbody tr th {\n",
       "        vertical-align: top;\n",
       "    }\n",
       "\n",
       "    .dataframe thead th {\n",
       "        text-align: right;\n",
       "    }\n",
       "</style>\n",
       "<table border=\"1\" class=\"dataframe\">\n",
       "  <thead>\n",
       "    <tr style=\"text-align: right;\">\n",
       "      <th></th>\n",
       "      <th>body_temperature</th>\n",
       "      <th>breed_type</th>\n",
       "      <th>milk_production</th>\n",
       "      <th>respiratory_rate</th>\n",
       "      <th>walking_capacity</th>\n",
       "      <th>sleeping_duration</th>\n",
       "      <th>body_condition_score</th>\n",
       "      <th>heart_rate</th>\n",
       "      <th>eating_duration</th>\n",
       "      <th>lying_down_duration</th>\n",
       "      <th>ruminating</th>\n",
       "      <th>rumen_fill</th>\n",
       "      <th>faecal_consistency</th>\n",
       "      <th>health_status</th>\n",
       "    </tr>\n",
       "  </thead>\n",
       "  <tbody>\n",
       "    <tr>\n",
       "      <th>0</th>\n",
       "      <td>38.2</td>\n",
       "      <td>Cross Breed</td>\n",
       "      <td>13.6</td>\n",
       "      <td>36</td>\n",
       "      <td>12432</td>\n",
       "      <td>3.5</td>\n",
       "      <td>3</td>\n",
       "      <td>50</td>\n",
       "      <td>3.2</td>\n",
       "      <td>15.0</td>\n",
       "      <td>6.0</td>\n",
       "      <td>3</td>\n",
       "      <td>extremely firm</td>\n",
       "      <td>unhealthy</td>\n",
       "    </tr>\n",
       "    <tr>\n",
       "      <th>1</th>\n",
       "      <td>38.9</td>\n",
       "      <td>Normal Breed</td>\n",
       "      <td>24.1</td>\n",
       "      <td>37</td>\n",
       "      <td>11987</td>\n",
       "      <td>4.2</td>\n",
       "      <td>2</td>\n",
       "      <td>62</td>\n",
       "      <td>3.9</td>\n",
       "      <td>12.2</td>\n",
       "      <td>5.8</td>\n",
       "      <td>4</td>\n",
       "      <td>ideal</td>\n",
       "      <td>healthy</td>\n",
       "    </tr>\n",
       "    <tr>\n",
       "      <th>2</th>\n",
       "      <td>38.6</td>\n",
       "      <td>Cross Breed</td>\n",
       "      <td>14.7</td>\n",
       "      <td>42</td>\n",
       "      <td>13121</td>\n",
       "      <td>3.2</td>\n",
       "      <td>3</td>\n",
       "      <td>71</td>\n",
       "      <td>3.0</td>\n",
       "      <td>12.6</td>\n",
       "      <td>5.9</td>\n",
       "      <td>2</td>\n",
       "      <td>ideal</td>\n",
       "      <td>healthy</td>\n",
       "    </tr>\n",
       "    <tr>\n",
       "      <th>3</th>\n",
       "      <td>39.5</td>\n",
       "      <td>Normal Breed</td>\n",
       "      <td>26.2</td>\n",
       "      <td>29</td>\n",
       "      <td>12055</td>\n",
       "      <td>3.8</td>\n",
       "      <td>4</td>\n",
       "      <td>68</td>\n",
       "      <td>3.6</td>\n",
       "      <td>13.5</td>\n",
       "      <td>6.0</td>\n",
       "      <td>2</td>\n",
       "      <td>Black faece</td>\n",
       "      <td>unhealthy</td>\n",
       "    </tr>\n",
       "    <tr>\n",
       "      <th>4</th>\n",
       "      <td>39.7</td>\n",
       "      <td>Normal Breed</td>\n",
       "      <td>22.5</td>\n",
       "      <td>48</td>\n",
       "      <td>10352</td>\n",
       "      <td>4.6</td>\n",
       "      <td>2</td>\n",
       "      <td>63</td>\n",
       "      <td>3.1</td>\n",
       "      <td>13.5</td>\n",
       "      <td>6.3</td>\n",
       "      <td>5</td>\n",
       "      <td>ideal</td>\n",
       "      <td>healthy</td>\n",
       "    </tr>\n",
       "  </tbody>\n",
       "</table>\n",
       "</div>"
      ],
      "text/plain": [
       "   body_temperature    breed_type  milk_production  respiratory_rate  \\\n",
       "0              38.2   Cross Breed             13.6                36   \n",
       "1              38.9  Normal Breed             24.1                37   \n",
       "2              38.6   Cross Breed             14.7                42   \n",
       "3              39.5  Normal Breed             26.2                29   \n",
       "4              39.7  Normal Breed             22.5                48   \n",
       "\n",
       "   walking_capacity  sleeping_duration  body_condition_score  heart_rate  \\\n",
       "0             12432                3.5                     3          50   \n",
       "1             11987                4.2                     2          62   \n",
       "2             13121                3.2                     3          71   \n",
       "3             12055                3.8                     4          68   \n",
       "4             10352                4.6                     2          63   \n",
       "\n",
       "   eating_duration  lying_down_duration  ruminating  rumen_fill  \\\n",
       "0              3.2                 15.0         6.0           3   \n",
       "1              3.9                 12.2         5.8           4   \n",
       "2              3.0                 12.6         5.9           2   \n",
       "3              3.6                 13.5         6.0           2   \n",
       "4              3.1                 13.5         6.3           5   \n",
       "\n",
       "  faecal_consistency health_status  \n",
       "0     extremely firm     unhealthy  \n",
       "1              ideal       healthy  \n",
       "2              ideal       healthy  \n",
       "3        Black faece     unhealthy  \n",
       "4              ideal       healthy  "
      ]
     },
     "execution_count": 3,
     "metadata": {},
     "output_type": "execute_result"
    }
   ],
   "source": [
    "df.head()"
   ]
  },
  {
   "cell_type": "markdown",
   "id": "0a101838-d38a-488b-ab56-dc69c97c070a",
   "metadata": {},
   "source": [
    "### 3.2) Display basic information about the dataset"
   ]
  },
  {
   "cell_type": "code",
   "execution_count": 4,
   "id": "68996fe1-17c6-4436-b872-17a668c33a3f",
   "metadata": {},
   "outputs": [
    {
     "name": "stdout",
     "output_type": "stream",
     "text": [
      "<class 'pandas.core.frame.DataFrame'>\n",
      "RangeIndex: 178 entries, 0 to 177\n",
      "Data columns (total 14 columns):\n",
      " #   Column                Non-Null Count  Dtype  \n",
      "---  ------                --------------  -----  \n",
      " 0   body_temperature      178 non-null    float64\n",
      " 1   breed_type            178 non-null    object \n",
      " 2   milk_production       178 non-null    float64\n",
      " 3   respiratory_rate      178 non-null    int64  \n",
      " 4   walking_capacity      178 non-null    int64  \n",
      " 5   sleeping_duration     178 non-null    float64\n",
      " 6   body_condition_score  178 non-null    int64  \n",
      " 7   heart_rate            178 non-null    int64  \n",
      " 8   eating_duration       178 non-null    float64\n",
      " 9   lying_down_duration   178 non-null    float64\n",
      " 10  ruminating            178 non-null    float64\n",
      " 11  rumen_fill            178 non-null    int64  \n",
      " 12  faecal_consistency    178 non-null    object \n",
      " 13  health_status         178 non-null    object \n",
      "dtypes: float64(6), int64(5), object(3)\n",
      "memory usage: 19.6+ KB\n"
     ]
    }
   ],
   "source": [
    "df.info()"
   ]
  },
  {
   "cell_type": "markdown",
   "id": "de913a50-e4f9-4442-a368-f969cc32b061",
   "metadata": {},
   "source": [
    "### 3.3) Display summary statistics of the dataset"
   ]
  },
  {
   "cell_type": "code",
   "execution_count": 5,
   "id": "6bf8ab73-8528-46f3-be9e-1a2da8611711",
   "metadata": {},
   "outputs": [
    {
     "data": {
      "text/html": [
       "<div>\n",
       "<style scoped>\n",
       "    .dataframe tbody tr th:only-of-type {\n",
       "        vertical-align: middle;\n",
       "    }\n",
       "\n",
       "    .dataframe tbody tr th {\n",
       "        vertical-align: top;\n",
       "    }\n",
       "\n",
       "    .dataframe thead th {\n",
       "        text-align: right;\n",
       "    }\n",
       "</style>\n",
       "<table border=\"1\" class=\"dataframe\">\n",
       "  <thead>\n",
       "    <tr style=\"text-align: right;\">\n",
       "      <th></th>\n",
       "      <th>body_temperature</th>\n",
       "      <th>milk_production</th>\n",
       "      <th>respiratory_rate</th>\n",
       "      <th>walking_capacity</th>\n",
       "      <th>sleeping_duration</th>\n",
       "      <th>body_condition_score</th>\n",
       "      <th>heart_rate</th>\n",
       "      <th>eating_duration</th>\n",
       "      <th>lying_down_duration</th>\n",
       "      <th>ruminating</th>\n",
       "      <th>rumen_fill</th>\n",
       "    </tr>\n",
       "  </thead>\n",
       "  <tbody>\n",
       "    <tr>\n",
       "      <th>count</th>\n",
       "      <td>178.000000</td>\n",
       "      <td>178.000000</td>\n",
       "      <td>178.000000</td>\n",
       "      <td>178.000000</td>\n",
       "      <td>178.000000</td>\n",
       "      <td>178.000000</td>\n",
       "      <td>178.000000</td>\n",
       "      <td>178.000000</td>\n",
       "      <td>178.000000</td>\n",
       "      <td>178.000000</td>\n",
       "      <td>178.000000</td>\n",
       "    </tr>\n",
       "    <tr>\n",
       "      <th>mean</th>\n",
       "      <td>39.011236</td>\n",
       "      <td>14.770787</td>\n",
       "      <td>28.685393</td>\n",
       "      <td>9303.179775</td>\n",
       "      <td>4.934831</td>\n",
       "      <td>2.910112</td>\n",
       "      <td>53.955056</td>\n",
       "      <td>2.825843</td>\n",
       "      <td>13.957303</td>\n",
       "      <td>4.888764</td>\n",
       "      <td>2.741573</td>\n",
       "    </tr>\n",
       "    <tr>\n",
       "      <th>std</th>\n",
       "      <td>0.872225</td>\n",
       "      <td>6.615735</td>\n",
       "      <td>9.768617</td>\n",
       "      <td>3237.390592</td>\n",
       "      <td>1.559668</td>\n",
       "      <td>1.254510</td>\n",
       "      <td>13.157808</td>\n",
       "      <td>0.760542</td>\n",
       "      <td>1.512650</td>\n",
       "      <td>1.173477</td>\n",
       "      <td>1.047225</td>\n",
       "    </tr>\n",
       "    <tr>\n",
       "      <th>min</th>\n",
       "      <td>35.500000</td>\n",
       "      <td>5.100000</td>\n",
       "      <td>14.000000</td>\n",
       "      <td>5004.000000</td>\n",
       "      <td>2.800000</td>\n",
       "      <td>1.000000</td>\n",
       "      <td>37.000000</td>\n",
       "      <td>1.300000</td>\n",
       "      <td>6.000000</td>\n",
       "      <td>3.000000</td>\n",
       "      <td>1.000000</td>\n",
       "    </tr>\n",
       "    <tr>\n",
       "      <th>25%</th>\n",
       "      <td>38.300000</td>\n",
       "      <td>9.700000</td>\n",
       "      <td>21.000000</td>\n",
       "      <td>6019.000000</td>\n",
       "      <td>3.500000</td>\n",
       "      <td>2.000000</td>\n",
       "      <td>42.000000</td>\n",
       "      <td>2.200000</td>\n",
       "      <td>12.900000</td>\n",
       "      <td>3.600000</td>\n",
       "      <td>2.000000</td>\n",
       "    </tr>\n",
       "    <tr>\n",
       "      <th>50%</th>\n",
       "      <td>38.900000</td>\n",
       "      <td>13.600000</td>\n",
       "      <td>28.000000</td>\n",
       "      <td>11203.000000</td>\n",
       "      <td>4.200000</td>\n",
       "      <td>3.000000</td>\n",
       "      <td>50.000000</td>\n",
       "      <td>2.900000</td>\n",
       "      <td>13.800000</td>\n",
       "      <td>5.000000</td>\n",
       "      <td>3.000000</td>\n",
       "    </tr>\n",
       "    <tr>\n",
       "      <th>75%</th>\n",
       "      <td>39.700000</td>\n",
       "      <td>21.200000</td>\n",
       "      <td>36.000000</td>\n",
       "      <td>12291.000000</td>\n",
       "      <td>6.500000</td>\n",
       "      <td>4.000000</td>\n",
       "      <td>63.000000</td>\n",
       "      <td>3.400000</td>\n",
       "      <td>15.100000</td>\n",
       "      <td>5.900000</td>\n",
       "      <td>3.000000</td>\n",
       "    </tr>\n",
       "    <tr>\n",
       "      <th>max</th>\n",
       "      <td>40.600000</td>\n",
       "      <td>26.500000</td>\n",
       "      <td>49.000000</td>\n",
       "      <td>13257.000000</td>\n",
       "      <td>7.200000</td>\n",
       "      <td>5.000000</td>\n",
       "      <td>83.000000</td>\n",
       "      <td>4.900000</td>\n",
       "      <td>16.400000</td>\n",
       "      <td>7.000000</td>\n",
       "      <td>5.000000</td>\n",
       "    </tr>\n",
       "  </tbody>\n",
       "</table>\n",
       "</div>"
      ],
      "text/plain": [
       "       body_temperature  milk_production  respiratory_rate  walking_capacity  \\\n",
       "count        178.000000       178.000000        178.000000        178.000000   \n",
       "mean          39.011236        14.770787         28.685393       9303.179775   \n",
       "std            0.872225         6.615735          9.768617       3237.390592   \n",
       "min           35.500000         5.100000         14.000000       5004.000000   \n",
       "25%           38.300000         9.700000         21.000000       6019.000000   \n",
       "50%           38.900000        13.600000         28.000000      11203.000000   \n",
       "75%           39.700000        21.200000         36.000000      12291.000000   \n",
       "max           40.600000        26.500000         49.000000      13257.000000   \n",
       "\n",
       "       sleeping_duration  body_condition_score  heart_rate  eating_duration  \\\n",
       "count         178.000000            178.000000  178.000000       178.000000   \n",
       "mean            4.934831              2.910112   53.955056         2.825843   \n",
       "std             1.559668              1.254510   13.157808         0.760542   \n",
       "min             2.800000              1.000000   37.000000         1.300000   \n",
       "25%             3.500000              2.000000   42.000000         2.200000   \n",
       "50%             4.200000              3.000000   50.000000         2.900000   \n",
       "75%             6.500000              4.000000   63.000000         3.400000   \n",
       "max             7.200000              5.000000   83.000000         4.900000   \n",
       "\n",
       "       lying_down_duration  ruminating  rumen_fill  \n",
       "count           178.000000  178.000000  178.000000  \n",
       "mean             13.957303    4.888764    2.741573  \n",
       "std               1.512650    1.173477    1.047225  \n",
       "min               6.000000    3.000000    1.000000  \n",
       "25%              12.900000    3.600000    2.000000  \n",
       "50%              13.800000    5.000000    3.000000  \n",
       "75%              15.100000    5.900000    3.000000  \n",
       "max              16.400000    7.000000    5.000000  "
      ]
     },
     "execution_count": 5,
     "metadata": {},
     "output_type": "execute_result"
    }
   ],
   "source": [
    "df.describe()"
   ]
  },
  {
   "cell_type": "markdown",
   "id": "66fb473b-52ac-41e7-8b6a-4e2e16ea910a",
   "metadata": {},
   "source": [
    "## 4) Handle Missing Values"
   ]
  },
  {
   "cell_type": "markdown",
   "id": "3f7b8ebf-4f75-4ed6-a677-da7009af113c",
   "metadata": {},
   "source": [
    "### 4.1) Check for missing values in the dataset"
   ]
  },
  {
   "cell_type": "code",
   "execution_count": 6,
   "id": "fda8502f-af3d-43f7-abcb-9e0dde7f3a7f",
   "metadata": {},
   "outputs": [
    {
     "data": {
      "text/plain": [
       "body_temperature        0\n",
       "breed_type              0\n",
       "milk_production         0\n",
       "respiratory_rate        0\n",
       "walking_capacity        0\n",
       "sleeping_duration       0\n",
       "body_condition_score    0\n",
       "heart_rate              0\n",
       "eating_duration         0\n",
       "lying_down_duration     0\n",
       "ruminating              0\n",
       "rumen_fill              0\n",
       "faecal_consistency      0\n",
       "health_status           0\n",
       "dtype: int64"
      ]
     },
     "execution_count": 6,
     "metadata": {},
     "output_type": "execute_result"
    }
   ],
   "source": [
    "df.isnull().sum()"
   ]
  },
  {
   "cell_type": "code",
   "execution_count": 7,
   "id": "9aa645b1-7efd-40ec-a42c-cae782814e5c",
   "metadata": {},
   "outputs": [
    {
     "data": {
      "text/plain": [
       "body_temperature        0\n",
       "breed_type              0\n",
       "milk_production         0\n",
       "respiratory_rate        0\n",
       "walking_capacity        0\n",
       "sleeping_duration       0\n",
       "body_condition_score    0\n",
       "heart_rate              0\n",
       "eating_duration         0\n",
       "lying_down_duration     0\n",
       "ruminating              0\n",
       "rumen_fill              0\n",
       "faecal_consistency      0\n",
       "health_status           0\n",
       "dtype: int64"
      ]
     },
     "execution_count": 7,
     "metadata": {},
     "output_type": "execute_result"
    }
   ],
   "source": [
    "df.isna().sum()"
   ]
  },
  {
   "cell_type": "markdown",
   "id": "e4fafc2a-18c4-4bbc-bf0e-b0b0303384f3",
   "metadata": {},
   "source": [
    "### 4.2) Fill missing values appropriately"
   ]
  },
  {
   "cell_type": "markdown",
   "id": "0364b317-f024-45c9-b778-3cc61b7e1d0d",
   "metadata": {},
   "source": [
    "There are no missing values."
   ]
  },
  {
   "cell_type": "markdown",
   "id": "18520749-b8a0-45b9-9e6f-46d867400f5f",
   "metadata": {},
   "source": [
    "## 5) Checking for Categorical Variables"
   ]
  },
  {
   "cell_type": "code",
   "execution_count": 8,
   "id": "18b31dee-19b0-48b3-9656-046a23d35710",
   "metadata": {},
   "outputs": [
    {
     "name": "stdout",
     "output_type": "stream",
     "text": [
      "<class 'pandas.core.frame.DataFrame'>\n",
      "RangeIndex: 178 entries, 0 to 177\n",
      "Data columns (total 14 columns):\n",
      " #   Column                Non-Null Count  Dtype  \n",
      "---  ------                --------------  -----  \n",
      " 0   body_temperature      178 non-null    float64\n",
      " 1   breed_type            178 non-null    object \n",
      " 2   milk_production       178 non-null    float64\n",
      " 3   respiratory_rate      178 non-null    int64  \n",
      " 4   walking_capacity      178 non-null    int64  \n",
      " 5   sleeping_duration     178 non-null    float64\n",
      " 6   body_condition_score  178 non-null    int64  \n",
      " 7   heart_rate            178 non-null    int64  \n",
      " 8   eating_duration       178 non-null    float64\n",
      " 9   lying_down_duration   178 non-null    float64\n",
      " 10  ruminating            178 non-null    float64\n",
      " 11  rumen_fill            178 non-null    int64  \n",
      " 12  faecal_consistency    178 non-null    object \n",
      " 13  health_status         178 non-null    object \n",
      "dtypes: float64(6), int64(5), object(3)\n",
      "memory usage: 19.6+ KB\n"
     ]
    }
   ],
   "source": [
    "df.info()"
   ]
  },
  {
   "cell_type": "code",
   "execution_count": 9,
   "id": "7eeb911d-0bfa-4237-bb71-d1faceb05bd3",
   "metadata": {},
   "outputs": [
    {
     "data": {
      "text/plain": [
       "Index(['breed_type', 'faecal_consistency', 'health_status'], dtype='object')"
      ]
     },
     "execution_count": 9,
     "metadata": {},
     "output_type": "execute_result"
    }
   ],
   "source": [
    "object_columns = df.select_dtypes(include='object').columns\n",
    "object_columns"
   ]
  },
  {
   "cell_type": "markdown",
   "id": "2230e280-ba9e-4ef6-84b5-2db9c06ce784",
   "metadata": {},
   "source": [
    "We see 'breed_type', 'faecal_consistency' and 'health_status' are the columns with categorical values"
   ]
  },
  {
   "cell_type": "markdown",
   "id": "20ab8bca-7d6e-40c6-94b1-e972a844786a",
   "metadata": {},
   "source": [
    "#### breed_type"
   ]
  },
  {
   "cell_type": "markdown",
   "id": "b7bdb696-442f-4ccc-a477-be7c7f3e2a86",
   "metadata": {},
   "source": [
    "There are total 2 unique values in 'breed_type' column"
   ]
  },
  {
   "cell_type": "code",
   "execution_count": 10,
   "id": "4dbea084-3d2e-4ff8-9cc9-1408966fbee5",
   "metadata": {},
   "outputs": [
    {
     "data": {
      "text/plain": [
       "2"
      ]
     },
     "execution_count": 10,
     "metadata": {},
     "output_type": "execute_result"
    }
   ],
   "source": [
    "df.breed_type.nunique()"
   ]
  },
  {
   "cell_type": "markdown",
   "id": "3907c081-7fd6-4531-8a26-4d6c6668cc11",
   "metadata": {},
   "source": [
    "Count of each unique value in 'breed_type' column"
   ]
  },
  {
   "cell_type": "code",
   "execution_count": 11,
   "id": "eedc00f0-0375-46e4-8f15-cc591b46b0cb",
   "metadata": {},
   "outputs": [
    {
     "data": {
      "text/plain": [
       "breed_type\n",
       "Cross Breed     90\n",
       "Normal Breed    88\n",
       "Name: count, dtype: int64"
      ]
     },
     "execution_count": 11,
     "metadata": {},
     "output_type": "execute_result"
    }
   ],
   "source": [
    "df['breed_type'].value_counts()"
   ]
  },
  {
   "cell_type": "markdown",
   "id": "995ab963-80f2-4100-8c89-a4743a229e32",
   "metadata": {},
   "source": [
    "#### faecal_consistency"
   ]
  },
  {
   "cell_type": "markdown",
   "id": "690f890f-958f-47f6-b79d-48245ccad09c",
   "metadata": {},
   "source": [
    "There are total 6 unique values in 'faecal_consistency' column"
   ]
  },
  {
   "cell_type": "code",
   "execution_count": 12,
   "id": "c8472b1a-08f6-4b17-ac4a-2d1dded35dbd",
   "metadata": {},
   "outputs": [
    {
     "data": {
      "text/plain": [
       "6"
      ]
     },
     "execution_count": 12,
     "metadata": {},
     "output_type": "execute_result"
    }
   ],
   "source": [
    "df.faecal_consistency.nunique()"
   ]
  },
  {
   "cell_type": "markdown",
   "id": "29be58aa-bd2f-446d-989a-1dcf09b57885",
   "metadata": {},
   "source": [
    "Count of each unique value in 'faecal_consistency' column"
   ]
  },
  {
   "cell_type": "code",
   "execution_count": 13,
   "id": "4ce30e15-2a4f-4b4e-b10f-12988613b0a8",
   "metadata": {},
   "outputs": [
    {
     "data": {
      "text/plain": [
       "faecal_consistency\n",
       "ideal                    90\n",
       "extremely firm           24\n",
       "Black faeces             22\n",
       "Fresh blood in faeces    20\n",
       "very liquid faeces       20\n",
       "Black faece               2\n",
       "Name: count, dtype: int64"
      ]
     },
     "execution_count": 13,
     "metadata": {},
     "output_type": "execute_result"
    }
   ],
   "source": [
    "df['faecal_consistency'].value_counts()"
   ]
  },
  {
   "cell_type": "markdown",
   "id": "33b190f7-8d0f-4cb5-8708-5874a13b8132",
   "metadata": {},
   "source": [
    "#### health_status"
   ]
  },
  {
   "cell_type": "markdown",
   "id": "8c323045-caaa-4aa4-8e36-a0badd0629df",
   "metadata": {},
   "source": [
    "There are total 2 unique values in 'health_status' column"
   ]
  },
  {
   "cell_type": "code",
   "execution_count": 14,
   "id": "19c32cbd-3eda-416d-9db2-5e6f8593e56d",
   "metadata": {},
   "outputs": [
    {
     "data": {
      "text/plain": [
       "2"
      ]
     },
     "execution_count": 14,
     "metadata": {},
     "output_type": "execute_result"
    }
   ],
   "source": [
    "df.health_status.nunique()"
   ]
  },
  {
   "cell_type": "markdown",
   "id": "2b01d839-3618-4bd3-8296-2e20c10df418",
   "metadata": {},
   "source": [
    "Count of each unique value in 'health_status' column"
   ]
  },
  {
   "cell_type": "code",
   "execution_count": 15,
   "id": "c8de0ee7-d6ba-4906-b081-ef3a72266713",
   "metadata": {},
   "outputs": [
    {
     "data": {
      "text/plain": [
       "health_status\n",
       "healthy      90\n",
       "unhealthy    88\n",
       "Name: count, dtype: int64"
      ]
     },
     "execution_count": 15,
     "metadata": {},
     "output_type": "execute_result"
    }
   ],
   "source": [
    "df['health_status'].value_counts()"
   ]
  },
  {
   "cell_type": "markdown",
   "id": "8f68e1f4-a597-4d51-9747-75c8dc98991f",
   "metadata": {},
   "source": [
    "#### body_condition_score"
   ]
  },
  {
   "cell_type": "markdown",
   "id": "a3d551e6-2756-4919-833d-aa2cc56eb1f8",
   "metadata": {},
   "source": [
    "Some time there is a case where the column with categorical values is of integer type instead of object type. Here we see 'body_condition_score' column as an example of it.\n",
    "\n",
    "So we will convert 'body_condition_score' column to object(str) type.\n",
    "\n",
    "We are doing this because One Hot Ecoding can be applied on the categorical columns of object dtype."
   ]
  },
  {
   "cell_type": "code",
   "execution_count": 16,
   "id": "d0477a0c-fa71-4b1e-8dab-a24d4e222fe6",
   "metadata": {},
   "outputs": [
    {
     "data": {
      "text/plain": [
       "dtype('O')"
      ]
     },
     "execution_count": 16,
     "metadata": {},
     "output_type": "execute_result"
    }
   ],
   "source": [
    "df['body_condition_score'] = df['body_condition_score'].astype(str)\n",
    "df['body_condition_score'].dtype"
   ]
  },
  {
   "cell_type": "markdown",
   "id": "ff6767c3-f74d-401b-9321-1db2f9151fcb",
   "metadata": {},
   "source": [
    "There are total 5 unique values in health_status column"
   ]
  },
  {
   "cell_type": "code",
   "execution_count": 17,
   "id": "43026296-b460-4884-8619-7c7770983b01",
   "metadata": {},
   "outputs": [
    {
     "data": {
      "text/plain": [
       "5"
      ]
     },
     "execution_count": 17,
     "metadata": {},
     "output_type": "execute_result"
    }
   ],
   "source": [
    "df.body_condition_score\t.nunique()"
   ]
  },
  {
   "cell_type": "markdown",
   "id": "eba1a64b-e062-4d66-9628-2c3cc3c81867",
   "metadata": {},
   "source": [
    "Count of each unique value in 'body_condition_score' column"
   ]
  },
  {
   "cell_type": "code",
   "execution_count": 18,
   "id": "1dbcaa2c-7193-4ee2-acc0-bc287761bf26",
   "metadata": {},
   "outputs": [
    {
     "data": {
      "text/plain": [
       "body_condition_score\n",
       "3    60\n",
       "2    38\n",
       "1    28\n",
       "4    26\n",
       "5    26\n",
       "Name: count, dtype: int64"
      ]
     },
     "execution_count": 18,
     "metadata": {},
     "output_type": "execute_result"
    }
   ],
   "source": [
    "df['body_condition_score'].value_counts()\t"
   ]
  },
  {
   "cell_type": "markdown",
   "id": "83269ff0-15fa-413a-a51f-cc4d328155b1",
   "metadata": {},
   "source": [
    "## 6) Convert Categorical Variables"
   ]
  },
  {
   "cell_type": "code",
   "execution_count": 19,
   "id": "df9d6ac0-9b35-4b9d-87e3-3a1c5e9b4ad8",
   "metadata": {},
   "outputs": [
    {
     "data": {
      "text/plain": [
       "Index(['breed_type', 'body_condition_score', 'faecal_consistency',\n",
       "       'health_status'],\n",
       "      dtype='object')"
      ]
     },
     "execution_count": 19,
     "metadata": {},
     "output_type": "execute_result"
    }
   ],
   "source": [
    "object_columns = df.select_dtypes(include='object').columns\n",
    "object_columns"
   ]
  },
  {
   "cell_type": "markdown",
   "id": "b587fbaf-e4b5-4b39-b2ea-c6f1bb2e5e33",
   "metadata": {},
   "source": [
    "We are not taking 'health_status' column for one hot encoding as it is the target variable"
   ]
  },
  {
   "cell_type": "code",
   "execution_count": 20,
   "id": "fd0d18b5-f2d0-404e-acb0-2487956469d8",
   "metadata": {},
   "outputs": [
    {
     "data": {
      "text/plain": [
       "Index(['breed_type', 'body_condition_score', 'faecal_consistency'], dtype='object')"
      ]
     },
     "execution_count": 20,
     "metadata": {},
     "output_type": "execute_result"
    }
   ],
   "source": [
    "object_columns = object_columns[0:3]\n",
    "object_columns"
   ]
  },
  {
   "cell_type": "markdown",
   "id": "21a09750-6cdd-4f34-8fd4-ddbeb2e1d56a",
   "metadata": {},
   "source": [
    "Applying the one hot encoding on object_columns"
   ]
  },
  {
   "cell_type": "code",
   "execution_count": 21,
   "id": "5623a33b-ce76-49d2-acb2-9c353fb6f5a1",
   "metadata": {},
   "outputs": [
    {
     "data": {
      "text/html": [
       "<div>\n",
       "<style scoped>\n",
       "    .dataframe tbody tr th:only-of-type {\n",
       "        vertical-align: middle;\n",
       "    }\n",
       "\n",
       "    .dataframe tbody tr th {\n",
       "        vertical-align: top;\n",
       "    }\n",
       "\n",
       "    .dataframe thead th {\n",
       "        text-align: right;\n",
       "    }\n",
       "</style>\n",
       "<table border=\"1\" class=\"dataframe\">\n",
       "  <thead>\n",
       "    <tr style=\"text-align: right;\">\n",
       "      <th></th>\n",
       "      <th>breed_type_Cross Breed</th>\n",
       "      <th>breed_type_Normal Breed</th>\n",
       "      <th>body_condition_score_1</th>\n",
       "      <th>body_condition_score_2</th>\n",
       "      <th>body_condition_score_3</th>\n",
       "      <th>body_condition_score_4</th>\n",
       "      <th>body_condition_score_5</th>\n",
       "      <th>faecal_consistency_Black faece</th>\n",
       "      <th>faecal_consistency_Black faeces</th>\n",
       "      <th>faecal_consistency_Fresh blood in faeces</th>\n",
       "      <th>faecal_consistency_extremely firm</th>\n",
       "      <th>faecal_consistency_ideal</th>\n",
       "      <th>faecal_consistency_very liquid faeces</th>\n",
       "    </tr>\n",
       "  </thead>\n",
       "  <tbody>\n",
       "    <tr>\n",
       "      <th>0</th>\n",
       "      <td>1</td>\n",
       "      <td>0</td>\n",
       "      <td>0</td>\n",
       "      <td>0</td>\n",
       "      <td>1</td>\n",
       "      <td>0</td>\n",
       "      <td>0</td>\n",
       "      <td>0</td>\n",
       "      <td>0</td>\n",
       "      <td>0</td>\n",
       "      <td>1</td>\n",
       "      <td>0</td>\n",
       "      <td>0</td>\n",
       "    </tr>\n",
       "    <tr>\n",
       "      <th>1</th>\n",
       "      <td>0</td>\n",
       "      <td>1</td>\n",
       "      <td>0</td>\n",
       "      <td>1</td>\n",
       "      <td>0</td>\n",
       "      <td>0</td>\n",
       "      <td>0</td>\n",
       "      <td>0</td>\n",
       "      <td>0</td>\n",
       "      <td>0</td>\n",
       "      <td>0</td>\n",
       "      <td>1</td>\n",
       "      <td>0</td>\n",
       "    </tr>\n",
       "    <tr>\n",
       "      <th>2</th>\n",
       "      <td>1</td>\n",
       "      <td>0</td>\n",
       "      <td>0</td>\n",
       "      <td>0</td>\n",
       "      <td>1</td>\n",
       "      <td>0</td>\n",
       "      <td>0</td>\n",
       "      <td>0</td>\n",
       "      <td>0</td>\n",
       "      <td>0</td>\n",
       "      <td>0</td>\n",
       "      <td>1</td>\n",
       "      <td>0</td>\n",
       "    </tr>\n",
       "    <tr>\n",
       "      <th>3</th>\n",
       "      <td>0</td>\n",
       "      <td>1</td>\n",
       "      <td>0</td>\n",
       "      <td>0</td>\n",
       "      <td>0</td>\n",
       "      <td>1</td>\n",
       "      <td>0</td>\n",
       "      <td>1</td>\n",
       "      <td>0</td>\n",
       "      <td>0</td>\n",
       "      <td>0</td>\n",
       "      <td>0</td>\n",
       "      <td>0</td>\n",
       "    </tr>\n",
       "    <tr>\n",
       "      <th>4</th>\n",
       "      <td>0</td>\n",
       "      <td>1</td>\n",
       "      <td>0</td>\n",
       "      <td>1</td>\n",
       "      <td>0</td>\n",
       "      <td>0</td>\n",
       "      <td>0</td>\n",
       "      <td>0</td>\n",
       "      <td>0</td>\n",
       "      <td>0</td>\n",
       "      <td>0</td>\n",
       "      <td>1</td>\n",
       "      <td>0</td>\n",
       "    </tr>\n",
       "    <tr>\n",
       "      <th>...</th>\n",
       "      <td>...</td>\n",
       "      <td>...</td>\n",
       "      <td>...</td>\n",
       "      <td>...</td>\n",
       "      <td>...</td>\n",
       "      <td>...</td>\n",
       "      <td>...</td>\n",
       "      <td>...</td>\n",
       "      <td>...</td>\n",
       "      <td>...</td>\n",
       "      <td>...</td>\n",
       "      <td>...</td>\n",
       "      <td>...</td>\n",
       "    </tr>\n",
       "    <tr>\n",
       "      <th>173</th>\n",
       "      <td>1</td>\n",
       "      <td>0</td>\n",
       "      <td>0</td>\n",
       "      <td>0</td>\n",
       "      <td>0</td>\n",
       "      <td>1</td>\n",
       "      <td>0</td>\n",
       "      <td>0</td>\n",
       "      <td>0</td>\n",
       "      <td>1</td>\n",
       "      <td>0</td>\n",
       "      <td>0</td>\n",
       "      <td>0</td>\n",
       "    </tr>\n",
       "    <tr>\n",
       "      <th>174</th>\n",
       "      <td>1</td>\n",
       "      <td>0</td>\n",
       "      <td>0</td>\n",
       "      <td>0</td>\n",
       "      <td>0</td>\n",
       "      <td>1</td>\n",
       "      <td>0</td>\n",
       "      <td>0</td>\n",
       "      <td>1</td>\n",
       "      <td>0</td>\n",
       "      <td>0</td>\n",
       "      <td>0</td>\n",
       "      <td>0</td>\n",
       "    </tr>\n",
       "    <tr>\n",
       "      <th>175</th>\n",
       "      <td>1</td>\n",
       "      <td>0</td>\n",
       "      <td>0</td>\n",
       "      <td>0</td>\n",
       "      <td>1</td>\n",
       "      <td>0</td>\n",
       "      <td>0</td>\n",
       "      <td>0</td>\n",
       "      <td>0</td>\n",
       "      <td>0</td>\n",
       "      <td>1</td>\n",
       "      <td>0</td>\n",
       "      <td>0</td>\n",
       "    </tr>\n",
       "    <tr>\n",
       "      <th>176</th>\n",
       "      <td>1</td>\n",
       "      <td>0</td>\n",
       "      <td>0</td>\n",
       "      <td>0</td>\n",
       "      <td>1</td>\n",
       "      <td>0</td>\n",
       "      <td>0</td>\n",
       "      <td>0</td>\n",
       "      <td>0</td>\n",
       "      <td>0</td>\n",
       "      <td>0</td>\n",
       "      <td>0</td>\n",
       "      <td>1</td>\n",
       "    </tr>\n",
       "    <tr>\n",
       "      <th>177</th>\n",
       "      <td>1</td>\n",
       "      <td>0</td>\n",
       "      <td>1</td>\n",
       "      <td>0</td>\n",
       "      <td>0</td>\n",
       "      <td>0</td>\n",
       "      <td>0</td>\n",
       "      <td>0</td>\n",
       "      <td>0</td>\n",
       "      <td>0</td>\n",
       "      <td>0</td>\n",
       "      <td>0</td>\n",
       "      <td>1</td>\n",
       "    </tr>\n",
       "  </tbody>\n",
       "</table>\n",
       "<p>178 rows × 13 columns</p>\n",
       "</div>"
      ],
      "text/plain": [
       "     breed_type_Cross Breed  breed_type_Normal Breed  body_condition_score_1  \\\n",
       "0                         1                        0                       0   \n",
       "1                         0                        1                       0   \n",
       "2                         1                        0                       0   \n",
       "3                         0                        1                       0   \n",
       "4                         0                        1                       0   \n",
       "..                      ...                      ...                     ...   \n",
       "173                       1                        0                       0   \n",
       "174                       1                        0                       0   \n",
       "175                       1                        0                       0   \n",
       "176                       1                        0                       0   \n",
       "177                       1                        0                       1   \n",
       "\n",
       "     body_condition_score_2  body_condition_score_3  body_condition_score_4  \\\n",
       "0                         0                       1                       0   \n",
       "1                         1                       0                       0   \n",
       "2                         0                       1                       0   \n",
       "3                         0                       0                       1   \n",
       "4                         1                       0                       0   \n",
       "..                      ...                     ...                     ...   \n",
       "173                       0                       0                       1   \n",
       "174                       0                       0                       1   \n",
       "175                       0                       1                       0   \n",
       "176                       0                       1                       0   \n",
       "177                       0                       0                       0   \n",
       "\n",
       "     body_condition_score_5  faecal_consistency_Black faece  \\\n",
       "0                         0                               0   \n",
       "1                         0                               0   \n",
       "2                         0                               0   \n",
       "3                         0                               1   \n",
       "4                         0                               0   \n",
       "..                      ...                             ...   \n",
       "173                       0                               0   \n",
       "174                       0                               0   \n",
       "175                       0                               0   \n",
       "176                       0                               0   \n",
       "177                       0                               0   \n",
       "\n",
       "     faecal_consistency_Black faeces  \\\n",
       "0                                  0   \n",
       "1                                  0   \n",
       "2                                  0   \n",
       "3                                  0   \n",
       "4                                  0   \n",
       "..                               ...   \n",
       "173                                0   \n",
       "174                                1   \n",
       "175                                0   \n",
       "176                                0   \n",
       "177                                0   \n",
       "\n",
       "     faecal_consistency_Fresh blood in faeces  \\\n",
       "0                                           0   \n",
       "1                                           0   \n",
       "2                                           0   \n",
       "3                                           0   \n",
       "4                                           0   \n",
       "..                                        ...   \n",
       "173                                         1   \n",
       "174                                         0   \n",
       "175                                         0   \n",
       "176                                         0   \n",
       "177                                         0   \n",
       "\n",
       "     faecal_consistency_extremely firm  faecal_consistency_ideal  \\\n",
       "0                                    1                         0   \n",
       "1                                    0                         1   \n",
       "2                                    0                         1   \n",
       "3                                    0                         0   \n",
       "4                                    0                         1   \n",
       "..                                 ...                       ...   \n",
       "173                                  0                         0   \n",
       "174                                  0                         0   \n",
       "175                                  1                         0   \n",
       "176                                  0                         0   \n",
       "177                                  0                         0   \n",
       "\n",
       "     faecal_consistency_very liquid faeces  \n",
       "0                                        0  \n",
       "1                                        0  \n",
       "2                                        0  \n",
       "3                                        0  \n",
       "4                                        0  \n",
       "..                                     ...  \n",
       "173                                      0  \n",
       "174                                      0  \n",
       "175                                      0  \n",
       "176                                      1  \n",
       "177                                      1  \n",
       "\n",
       "[178 rows x 13 columns]"
      ]
     },
     "execution_count": 21,
     "metadata": {},
     "output_type": "execute_result"
    }
   ],
   "source": [
    "dummies = pd.get_dummies(df[['breed_type', 'body_condition_score', 'faecal_consistency']] , dtype='int') \n",
    "dummies"
   ]
  },
  {
   "cell_type": "markdown",
   "id": "5d7660cc-5a6f-4600-811d-0aadce3ca4fe",
   "metadata": {},
   "source": [
    "## 7) Feature Engineering"
   ]
  },
  {
   "cell_type": "markdown",
   "id": "4e131f8d-392b-4b62-8a53-ddcbf998e917",
   "metadata": {},
   "source": [
    "### 7.1) Adding new features"
   ]
  },
  {
   "cell_type": "markdown",
   "id": "cbc7fdf7-7f12-478c-a439-40719e4eb213",
   "metadata": {},
   "source": [
    "We are adding the the features which we get from One Hot Encoding."
   ]
  },
  {
   "cell_type": "code",
   "execution_count": 22,
   "id": "e1a23f64-b7fa-466f-bd09-c2198da24a0c",
   "metadata": {},
   "outputs": [
    {
     "data": {
      "text/html": [
       "<div>\n",
       "<style scoped>\n",
       "    .dataframe tbody tr th:only-of-type {\n",
       "        vertical-align: middle;\n",
       "    }\n",
       "\n",
       "    .dataframe tbody tr th {\n",
       "        vertical-align: top;\n",
       "    }\n",
       "\n",
       "    .dataframe thead th {\n",
       "        text-align: right;\n",
       "    }\n",
       "</style>\n",
       "<table border=\"1\" class=\"dataframe\">\n",
       "  <thead>\n",
       "    <tr style=\"text-align: right;\">\n",
       "      <th></th>\n",
       "      <th>body_temperature</th>\n",
       "      <th>breed_type</th>\n",
       "      <th>milk_production</th>\n",
       "      <th>respiratory_rate</th>\n",
       "      <th>walking_capacity</th>\n",
       "      <th>sleeping_duration</th>\n",
       "      <th>body_condition_score</th>\n",
       "      <th>heart_rate</th>\n",
       "      <th>eating_duration</th>\n",
       "      <th>lying_down_duration</th>\n",
       "      <th>...</th>\n",
       "      <th>body_condition_score_2</th>\n",
       "      <th>body_condition_score_3</th>\n",
       "      <th>body_condition_score_4</th>\n",
       "      <th>body_condition_score_5</th>\n",
       "      <th>faecal_consistency_Black faece</th>\n",
       "      <th>faecal_consistency_Black faeces</th>\n",
       "      <th>faecal_consistency_Fresh blood in faeces</th>\n",
       "      <th>faecal_consistency_extremely firm</th>\n",
       "      <th>faecal_consistency_ideal</th>\n",
       "      <th>faecal_consistency_very liquid faeces</th>\n",
       "    </tr>\n",
       "  </thead>\n",
       "  <tbody>\n",
       "    <tr>\n",
       "      <th>0</th>\n",
       "      <td>38.2</td>\n",
       "      <td>Cross Breed</td>\n",
       "      <td>13.6</td>\n",
       "      <td>36</td>\n",
       "      <td>12432</td>\n",
       "      <td>3.5</td>\n",
       "      <td>3</td>\n",
       "      <td>50</td>\n",
       "      <td>3.2</td>\n",
       "      <td>15.0</td>\n",
       "      <td>...</td>\n",
       "      <td>0</td>\n",
       "      <td>1</td>\n",
       "      <td>0</td>\n",
       "      <td>0</td>\n",
       "      <td>0</td>\n",
       "      <td>0</td>\n",
       "      <td>0</td>\n",
       "      <td>1</td>\n",
       "      <td>0</td>\n",
       "      <td>0</td>\n",
       "    </tr>\n",
       "    <tr>\n",
       "      <th>1</th>\n",
       "      <td>38.9</td>\n",
       "      <td>Normal Breed</td>\n",
       "      <td>24.1</td>\n",
       "      <td>37</td>\n",
       "      <td>11987</td>\n",
       "      <td>4.2</td>\n",
       "      <td>2</td>\n",
       "      <td>62</td>\n",
       "      <td>3.9</td>\n",
       "      <td>12.2</td>\n",
       "      <td>...</td>\n",
       "      <td>1</td>\n",
       "      <td>0</td>\n",
       "      <td>0</td>\n",
       "      <td>0</td>\n",
       "      <td>0</td>\n",
       "      <td>0</td>\n",
       "      <td>0</td>\n",
       "      <td>0</td>\n",
       "      <td>1</td>\n",
       "      <td>0</td>\n",
       "    </tr>\n",
       "    <tr>\n",
       "      <th>2</th>\n",
       "      <td>38.6</td>\n",
       "      <td>Cross Breed</td>\n",
       "      <td>14.7</td>\n",
       "      <td>42</td>\n",
       "      <td>13121</td>\n",
       "      <td>3.2</td>\n",
       "      <td>3</td>\n",
       "      <td>71</td>\n",
       "      <td>3.0</td>\n",
       "      <td>12.6</td>\n",
       "      <td>...</td>\n",
       "      <td>0</td>\n",
       "      <td>1</td>\n",
       "      <td>0</td>\n",
       "      <td>0</td>\n",
       "      <td>0</td>\n",
       "      <td>0</td>\n",
       "      <td>0</td>\n",
       "      <td>0</td>\n",
       "      <td>1</td>\n",
       "      <td>0</td>\n",
       "    </tr>\n",
       "    <tr>\n",
       "      <th>3</th>\n",
       "      <td>39.5</td>\n",
       "      <td>Normal Breed</td>\n",
       "      <td>26.2</td>\n",
       "      <td>29</td>\n",
       "      <td>12055</td>\n",
       "      <td>3.8</td>\n",
       "      <td>4</td>\n",
       "      <td>68</td>\n",
       "      <td>3.6</td>\n",
       "      <td>13.5</td>\n",
       "      <td>...</td>\n",
       "      <td>0</td>\n",
       "      <td>0</td>\n",
       "      <td>1</td>\n",
       "      <td>0</td>\n",
       "      <td>1</td>\n",
       "      <td>0</td>\n",
       "      <td>0</td>\n",
       "      <td>0</td>\n",
       "      <td>0</td>\n",
       "      <td>0</td>\n",
       "    </tr>\n",
       "    <tr>\n",
       "      <th>4</th>\n",
       "      <td>39.7</td>\n",
       "      <td>Normal Breed</td>\n",
       "      <td>22.5</td>\n",
       "      <td>48</td>\n",
       "      <td>10352</td>\n",
       "      <td>4.6</td>\n",
       "      <td>2</td>\n",
       "      <td>63</td>\n",
       "      <td>3.1</td>\n",
       "      <td>13.5</td>\n",
       "      <td>...</td>\n",
       "      <td>1</td>\n",
       "      <td>0</td>\n",
       "      <td>0</td>\n",
       "      <td>0</td>\n",
       "      <td>0</td>\n",
       "      <td>0</td>\n",
       "      <td>0</td>\n",
       "      <td>0</td>\n",
       "      <td>1</td>\n",
       "      <td>0</td>\n",
       "    </tr>\n",
       "  </tbody>\n",
       "</table>\n",
       "<p>5 rows × 27 columns</p>\n",
       "</div>"
      ],
      "text/plain": [
       "   body_temperature    breed_type  milk_production  respiratory_rate  \\\n",
       "0              38.2   Cross Breed             13.6                36   \n",
       "1              38.9  Normal Breed             24.1                37   \n",
       "2              38.6   Cross Breed             14.7                42   \n",
       "3              39.5  Normal Breed             26.2                29   \n",
       "4              39.7  Normal Breed             22.5                48   \n",
       "\n",
       "   walking_capacity  sleeping_duration body_condition_score  heart_rate  \\\n",
       "0             12432                3.5                    3          50   \n",
       "1             11987                4.2                    2          62   \n",
       "2             13121                3.2                    3          71   \n",
       "3             12055                3.8                    4          68   \n",
       "4             10352                4.6                    2          63   \n",
       "\n",
       "   eating_duration  lying_down_duration  ...  body_condition_score_2  \\\n",
       "0              3.2                 15.0  ...                       0   \n",
       "1              3.9                 12.2  ...                       1   \n",
       "2              3.0                 12.6  ...                       0   \n",
       "3              3.6                 13.5  ...                       0   \n",
       "4              3.1                 13.5  ...                       1   \n",
       "\n",
       "   body_condition_score_3 body_condition_score_4 body_condition_score_5  \\\n",
       "0                       1                      0                      0   \n",
       "1                       0                      0                      0   \n",
       "2                       1                      0                      0   \n",
       "3                       0                      1                      0   \n",
       "4                       0                      0                      0   \n",
       "\n",
       "   faecal_consistency_Black faece  faecal_consistency_Black faeces  \\\n",
       "0                               0                                0   \n",
       "1                               0                                0   \n",
       "2                               0                                0   \n",
       "3                               1                                0   \n",
       "4                               0                                0   \n",
       "\n",
       "   faecal_consistency_Fresh blood in faeces  \\\n",
       "0                                         0   \n",
       "1                                         0   \n",
       "2                                         0   \n",
       "3                                         0   \n",
       "4                                         0   \n",
       "\n",
       "   faecal_consistency_extremely firm  faecal_consistency_ideal  \\\n",
       "0                                  1                         0   \n",
       "1                                  0                         1   \n",
       "2                                  0                         1   \n",
       "3                                  0                         0   \n",
       "4                                  0                         1   \n",
       "\n",
       "   faecal_consistency_very liquid faeces  \n",
       "0                                      0  \n",
       "1                                      0  \n",
       "2                                      0  \n",
       "3                                      0  \n",
       "4                                      0  \n",
       "\n",
       "[5 rows x 27 columns]"
      ]
     },
     "execution_count": 22,
     "metadata": {},
     "output_type": "execute_result"
    }
   ],
   "source": [
    "df = pd.concat([df , dummies] ,axis=1)\n",
    "df.head()"
   ]
  },
  {
   "cell_type": "markdown",
   "id": "f666de05-1616-412c-8d8a-dec469bcbf25",
   "metadata": {},
   "source": [
    "### 7.2) Droping the features"
   ]
  },
  {
   "cell_type": "markdown",
   "id": "3998674b-ffdd-49e8-b851-19aa31696c4a",
   "metadata": {},
   "source": [
    "We are droping the features 'breed_type', 'body_condition_score', 'faecal_consistency' because they have been One hot Encoded."
   ]
  },
  {
   "cell_type": "code",
   "execution_count": 23,
   "id": "6b397520-f7b5-4b5a-90ba-186fa4abca22",
   "metadata": {},
   "outputs": [
    {
     "data": {
      "text/html": [
       "<div>\n",
       "<style scoped>\n",
       "    .dataframe tbody tr th:only-of-type {\n",
       "        vertical-align: middle;\n",
       "    }\n",
       "\n",
       "    .dataframe tbody tr th {\n",
       "        vertical-align: top;\n",
       "    }\n",
       "\n",
       "    .dataframe thead th {\n",
       "        text-align: right;\n",
       "    }\n",
       "</style>\n",
       "<table border=\"1\" class=\"dataframe\">\n",
       "  <thead>\n",
       "    <tr style=\"text-align: right;\">\n",
       "      <th></th>\n",
       "      <th>body_temperature</th>\n",
       "      <th>milk_production</th>\n",
       "      <th>respiratory_rate</th>\n",
       "      <th>walking_capacity</th>\n",
       "      <th>sleeping_duration</th>\n",
       "      <th>heart_rate</th>\n",
       "      <th>eating_duration</th>\n",
       "      <th>lying_down_duration</th>\n",
       "      <th>ruminating</th>\n",
       "      <th>rumen_fill</th>\n",
       "      <th>...</th>\n",
       "      <th>body_condition_score_2</th>\n",
       "      <th>body_condition_score_3</th>\n",
       "      <th>body_condition_score_4</th>\n",
       "      <th>body_condition_score_5</th>\n",
       "      <th>faecal_consistency_Black faece</th>\n",
       "      <th>faecal_consistency_Black faeces</th>\n",
       "      <th>faecal_consistency_Fresh blood in faeces</th>\n",
       "      <th>faecal_consistency_extremely firm</th>\n",
       "      <th>faecal_consistency_ideal</th>\n",
       "      <th>faecal_consistency_very liquid faeces</th>\n",
       "    </tr>\n",
       "  </thead>\n",
       "  <tbody>\n",
       "    <tr>\n",
       "      <th>0</th>\n",
       "      <td>38.2</td>\n",
       "      <td>13.6</td>\n",
       "      <td>36</td>\n",
       "      <td>12432</td>\n",
       "      <td>3.5</td>\n",
       "      <td>50</td>\n",
       "      <td>3.2</td>\n",
       "      <td>15.0</td>\n",
       "      <td>6.0</td>\n",
       "      <td>3</td>\n",
       "      <td>...</td>\n",
       "      <td>0</td>\n",
       "      <td>1</td>\n",
       "      <td>0</td>\n",
       "      <td>0</td>\n",
       "      <td>0</td>\n",
       "      <td>0</td>\n",
       "      <td>0</td>\n",
       "      <td>1</td>\n",
       "      <td>0</td>\n",
       "      <td>0</td>\n",
       "    </tr>\n",
       "    <tr>\n",
       "      <th>1</th>\n",
       "      <td>38.9</td>\n",
       "      <td>24.1</td>\n",
       "      <td>37</td>\n",
       "      <td>11987</td>\n",
       "      <td>4.2</td>\n",
       "      <td>62</td>\n",
       "      <td>3.9</td>\n",
       "      <td>12.2</td>\n",
       "      <td>5.8</td>\n",
       "      <td>4</td>\n",
       "      <td>...</td>\n",
       "      <td>1</td>\n",
       "      <td>0</td>\n",
       "      <td>0</td>\n",
       "      <td>0</td>\n",
       "      <td>0</td>\n",
       "      <td>0</td>\n",
       "      <td>0</td>\n",
       "      <td>0</td>\n",
       "      <td>1</td>\n",
       "      <td>0</td>\n",
       "    </tr>\n",
       "    <tr>\n",
       "      <th>2</th>\n",
       "      <td>38.6</td>\n",
       "      <td>14.7</td>\n",
       "      <td>42</td>\n",
       "      <td>13121</td>\n",
       "      <td>3.2</td>\n",
       "      <td>71</td>\n",
       "      <td>3.0</td>\n",
       "      <td>12.6</td>\n",
       "      <td>5.9</td>\n",
       "      <td>2</td>\n",
       "      <td>...</td>\n",
       "      <td>0</td>\n",
       "      <td>1</td>\n",
       "      <td>0</td>\n",
       "      <td>0</td>\n",
       "      <td>0</td>\n",
       "      <td>0</td>\n",
       "      <td>0</td>\n",
       "      <td>0</td>\n",
       "      <td>1</td>\n",
       "      <td>0</td>\n",
       "    </tr>\n",
       "    <tr>\n",
       "      <th>3</th>\n",
       "      <td>39.5</td>\n",
       "      <td>26.2</td>\n",
       "      <td>29</td>\n",
       "      <td>12055</td>\n",
       "      <td>3.8</td>\n",
       "      <td>68</td>\n",
       "      <td>3.6</td>\n",
       "      <td>13.5</td>\n",
       "      <td>6.0</td>\n",
       "      <td>2</td>\n",
       "      <td>...</td>\n",
       "      <td>0</td>\n",
       "      <td>0</td>\n",
       "      <td>1</td>\n",
       "      <td>0</td>\n",
       "      <td>1</td>\n",
       "      <td>0</td>\n",
       "      <td>0</td>\n",
       "      <td>0</td>\n",
       "      <td>0</td>\n",
       "      <td>0</td>\n",
       "    </tr>\n",
       "    <tr>\n",
       "      <th>4</th>\n",
       "      <td>39.7</td>\n",
       "      <td>22.5</td>\n",
       "      <td>48</td>\n",
       "      <td>10352</td>\n",
       "      <td>4.6</td>\n",
       "      <td>63</td>\n",
       "      <td>3.1</td>\n",
       "      <td>13.5</td>\n",
       "      <td>6.3</td>\n",
       "      <td>5</td>\n",
       "      <td>...</td>\n",
       "      <td>1</td>\n",
       "      <td>0</td>\n",
       "      <td>0</td>\n",
       "      <td>0</td>\n",
       "      <td>0</td>\n",
       "      <td>0</td>\n",
       "      <td>0</td>\n",
       "      <td>0</td>\n",
       "      <td>1</td>\n",
       "      <td>0</td>\n",
       "    </tr>\n",
       "  </tbody>\n",
       "</table>\n",
       "<p>5 rows × 24 columns</p>\n",
       "</div>"
      ],
      "text/plain": [
       "   body_temperature  milk_production  respiratory_rate  walking_capacity  \\\n",
       "0              38.2             13.6                36             12432   \n",
       "1              38.9             24.1                37             11987   \n",
       "2              38.6             14.7                42             13121   \n",
       "3              39.5             26.2                29             12055   \n",
       "4              39.7             22.5                48             10352   \n",
       "\n",
       "   sleeping_duration  heart_rate  eating_duration  lying_down_duration  \\\n",
       "0                3.5          50              3.2                 15.0   \n",
       "1                4.2          62              3.9                 12.2   \n",
       "2                3.2          71              3.0                 12.6   \n",
       "3                3.8          68              3.6                 13.5   \n",
       "4                4.6          63              3.1                 13.5   \n",
       "\n",
       "   ruminating  rumen_fill  ... body_condition_score_2  body_condition_score_3  \\\n",
       "0         6.0           3  ...                      0                       1   \n",
       "1         5.8           4  ...                      1                       0   \n",
       "2         5.9           2  ...                      0                       1   \n",
       "3         6.0           2  ...                      0                       0   \n",
       "4         6.3           5  ...                      1                       0   \n",
       "\n",
       "   body_condition_score_4  body_condition_score_5  \\\n",
       "0                       0                       0   \n",
       "1                       0                       0   \n",
       "2                       0                       0   \n",
       "3                       1                       0   \n",
       "4                       0                       0   \n",
       "\n",
       "   faecal_consistency_Black faece  faecal_consistency_Black faeces  \\\n",
       "0                               0                                0   \n",
       "1                               0                                0   \n",
       "2                               0                                0   \n",
       "3                               1                                0   \n",
       "4                               0                                0   \n",
       "\n",
       "   faecal_consistency_Fresh blood in faeces  \\\n",
       "0                                         0   \n",
       "1                                         0   \n",
       "2                                         0   \n",
       "3                                         0   \n",
       "4                                         0   \n",
       "\n",
       "   faecal_consistency_extremely firm  faecal_consistency_ideal  \\\n",
       "0                                  1                         0   \n",
       "1                                  0                         1   \n",
       "2                                  0                         1   \n",
       "3                                  0                         0   \n",
       "4                                  0                         1   \n",
       "\n",
       "   faecal_consistency_very liquid faeces  \n",
       "0                                      0  \n",
       "1                                      0  \n",
       "2                                      0  \n",
       "3                                      0  \n",
       "4                                      0  \n",
       "\n",
       "[5 rows x 24 columns]"
      ]
     },
     "execution_count": 23,
     "metadata": {},
     "output_type": "execute_result"
    }
   ],
   "source": [
    "df.drop(['breed_type', 'body_condition_score', 'faecal_consistency'] , axis=1 , inplace=True)\n",
    "df.head()"
   ]
  },
  {
   "cell_type": "markdown",
   "id": "f15f0ab9-9707-4b2b-8f29-f9b60186b8e0",
   "metadata": {},
   "source": [
    "### 7.3) Converting categorical target variable in form of 1 and 0"
   ]
  },
  {
   "cell_type": "markdown",
   "id": "6f99600b-1339-45bc-a246-a3ad812a631e",
   "metadata": {},
   "source": [
    "health_status = target variable\n",
    "\n",
    "1 = healthy\n",
    "0 = unhealthy\n",
    "\n",
    "In machine learning, many algorithms and models require numerical input and output for mathematical operations. When working with categorical target variables (i.e., variables with distinct categories or classes), converting these categories into numerical values (like 0 and 1 for binary classification) is often necessary."
   ]
  },
  {
   "cell_type": "code",
   "execution_count": 24,
   "id": "7ac4eb4b-a7b0-42c4-8287-a100d8f3a3e1",
   "metadata": {},
   "outputs": [
    {
     "data": {
      "text/html": [
       "<div>\n",
       "<style scoped>\n",
       "    .dataframe tbody tr th:only-of-type {\n",
       "        vertical-align: middle;\n",
       "    }\n",
       "\n",
       "    .dataframe tbody tr th {\n",
       "        vertical-align: top;\n",
       "    }\n",
       "\n",
       "    .dataframe thead th {\n",
       "        text-align: right;\n",
       "    }\n",
       "</style>\n",
       "<table border=\"1\" class=\"dataframe\">\n",
       "  <thead>\n",
       "    <tr style=\"text-align: right;\">\n",
       "      <th></th>\n",
       "      <th>body_temperature</th>\n",
       "      <th>milk_production</th>\n",
       "      <th>respiratory_rate</th>\n",
       "      <th>walking_capacity</th>\n",
       "      <th>sleeping_duration</th>\n",
       "      <th>heart_rate</th>\n",
       "      <th>eating_duration</th>\n",
       "      <th>lying_down_duration</th>\n",
       "      <th>ruminating</th>\n",
       "      <th>rumen_fill</th>\n",
       "      <th>...</th>\n",
       "      <th>body_condition_score_2</th>\n",
       "      <th>body_condition_score_3</th>\n",
       "      <th>body_condition_score_4</th>\n",
       "      <th>body_condition_score_5</th>\n",
       "      <th>faecal_consistency_Black faece</th>\n",
       "      <th>faecal_consistency_Black faeces</th>\n",
       "      <th>faecal_consistency_Fresh blood in faeces</th>\n",
       "      <th>faecal_consistency_extremely firm</th>\n",
       "      <th>faecal_consistency_ideal</th>\n",
       "      <th>faecal_consistency_very liquid faeces</th>\n",
       "    </tr>\n",
       "  </thead>\n",
       "  <tbody>\n",
       "    <tr>\n",
       "      <th>0</th>\n",
       "      <td>38.2</td>\n",
       "      <td>13.6</td>\n",
       "      <td>36</td>\n",
       "      <td>12432</td>\n",
       "      <td>3.5</td>\n",
       "      <td>50</td>\n",
       "      <td>3.2</td>\n",
       "      <td>15.0</td>\n",
       "      <td>6.0</td>\n",
       "      <td>3</td>\n",
       "      <td>...</td>\n",
       "      <td>0</td>\n",
       "      <td>1</td>\n",
       "      <td>0</td>\n",
       "      <td>0</td>\n",
       "      <td>0</td>\n",
       "      <td>0</td>\n",
       "      <td>0</td>\n",
       "      <td>1</td>\n",
       "      <td>0</td>\n",
       "      <td>0</td>\n",
       "    </tr>\n",
       "    <tr>\n",
       "      <th>1</th>\n",
       "      <td>38.9</td>\n",
       "      <td>24.1</td>\n",
       "      <td>37</td>\n",
       "      <td>11987</td>\n",
       "      <td>4.2</td>\n",
       "      <td>62</td>\n",
       "      <td>3.9</td>\n",
       "      <td>12.2</td>\n",
       "      <td>5.8</td>\n",
       "      <td>4</td>\n",
       "      <td>...</td>\n",
       "      <td>1</td>\n",
       "      <td>0</td>\n",
       "      <td>0</td>\n",
       "      <td>0</td>\n",
       "      <td>0</td>\n",
       "      <td>0</td>\n",
       "      <td>0</td>\n",
       "      <td>0</td>\n",
       "      <td>1</td>\n",
       "      <td>0</td>\n",
       "    </tr>\n",
       "    <tr>\n",
       "      <th>2</th>\n",
       "      <td>38.6</td>\n",
       "      <td>14.7</td>\n",
       "      <td>42</td>\n",
       "      <td>13121</td>\n",
       "      <td>3.2</td>\n",
       "      <td>71</td>\n",
       "      <td>3.0</td>\n",
       "      <td>12.6</td>\n",
       "      <td>5.9</td>\n",
       "      <td>2</td>\n",
       "      <td>...</td>\n",
       "      <td>0</td>\n",
       "      <td>1</td>\n",
       "      <td>0</td>\n",
       "      <td>0</td>\n",
       "      <td>0</td>\n",
       "      <td>0</td>\n",
       "      <td>0</td>\n",
       "      <td>0</td>\n",
       "      <td>1</td>\n",
       "      <td>0</td>\n",
       "    </tr>\n",
       "    <tr>\n",
       "      <th>3</th>\n",
       "      <td>39.5</td>\n",
       "      <td>26.2</td>\n",
       "      <td>29</td>\n",
       "      <td>12055</td>\n",
       "      <td>3.8</td>\n",
       "      <td>68</td>\n",
       "      <td>3.6</td>\n",
       "      <td>13.5</td>\n",
       "      <td>6.0</td>\n",
       "      <td>2</td>\n",
       "      <td>...</td>\n",
       "      <td>0</td>\n",
       "      <td>0</td>\n",
       "      <td>1</td>\n",
       "      <td>0</td>\n",
       "      <td>1</td>\n",
       "      <td>0</td>\n",
       "      <td>0</td>\n",
       "      <td>0</td>\n",
       "      <td>0</td>\n",
       "      <td>0</td>\n",
       "    </tr>\n",
       "    <tr>\n",
       "      <th>4</th>\n",
       "      <td>39.7</td>\n",
       "      <td>22.5</td>\n",
       "      <td>48</td>\n",
       "      <td>10352</td>\n",
       "      <td>4.6</td>\n",
       "      <td>63</td>\n",
       "      <td>3.1</td>\n",
       "      <td>13.5</td>\n",
       "      <td>6.3</td>\n",
       "      <td>5</td>\n",
       "      <td>...</td>\n",
       "      <td>1</td>\n",
       "      <td>0</td>\n",
       "      <td>0</td>\n",
       "      <td>0</td>\n",
       "      <td>0</td>\n",
       "      <td>0</td>\n",
       "      <td>0</td>\n",
       "      <td>0</td>\n",
       "      <td>1</td>\n",
       "      <td>0</td>\n",
       "    </tr>\n",
       "  </tbody>\n",
       "</table>\n",
       "<p>5 rows × 24 columns</p>\n",
       "</div>"
      ],
      "text/plain": [
       "   body_temperature  milk_production  respiratory_rate  walking_capacity  \\\n",
       "0              38.2             13.6                36             12432   \n",
       "1              38.9             24.1                37             11987   \n",
       "2              38.6             14.7                42             13121   \n",
       "3              39.5             26.2                29             12055   \n",
       "4              39.7             22.5                48             10352   \n",
       "\n",
       "   sleeping_duration  heart_rate  eating_duration  lying_down_duration  \\\n",
       "0                3.5          50              3.2                 15.0   \n",
       "1                4.2          62              3.9                 12.2   \n",
       "2                3.2          71              3.0                 12.6   \n",
       "3                3.8          68              3.6                 13.5   \n",
       "4                4.6          63              3.1                 13.5   \n",
       "\n",
       "   ruminating  rumen_fill  ...  body_condition_score_2  \\\n",
       "0         6.0           3  ...                       0   \n",
       "1         5.8           4  ...                       1   \n",
       "2         5.9           2  ...                       0   \n",
       "3         6.0           2  ...                       0   \n",
       "4         6.3           5  ...                       1   \n",
       "\n",
       "   body_condition_score_3  body_condition_score_4  body_condition_score_5  \\\n",
       "0                       1                       0                       0   \n",
       "1                       0                       0                       0   \n",
       "2                       1                       0                       0   \n",
       "3                       0                       1                       0   \n",
       "4                       0                       0                       0   \n",
       "\n",
       "   faecal_consistency_Black faece  faecal_consistency_Black faeces  \\\n",
       "0                               0                                0   \n",
       "1                               0                                0   \n",
       "2                               0                                0   \n",
       "3                               1                                0   \n",
       "4                               0                                0   \n",
       "\n",
       "   faecal_consistency_Fresh blood in faeces  \\\n",
       "0                                         0   \n",
       "1                                         0   \n",
       "2                                         0   \n",
       "3                                         0   \n",
       "4                                         0   \n",
       "\n",
       "   faecal_consistency_extremely firm  faecal_consistency_ideal  \\\n",
       "0                                  1                         0   \n",
       "1                                  0                         1   \n",
       "2                                  0                         1   \n",
       "3                                  0                         0   \n",
       "4                                  0                         1   \n",
       "\n",
       "   faecal_consistency_very liquid faeces  \n",
       "0                                      0  \n",
       "1                                      0  \n",
       "2                                      0  \n",
       "3                                      0  \n",
       "4                                      0  \n",
       "\n",
       "[5 rows x 24 columns]"
      ]
     },
     "execution_count": 24,
     "metadata": {},
     "output_type": "execute_result"
    }
   ],
   "source": [
    "def partition(x):\n",
    "    if x == 'healthy':\n",
    "        return 1\n",
    "    return 0\n",
    "\n",
    "health_update = df['health_status']\n",
    "t = health_update.map(partition)\n",
    "df['health_status'] = t\n",
    "\n",
    "df.head()"
   ]
  },
  {
   "cell_type": "code",
   "execution_count": 25,
   "id": "bf92785e-59c5-44c0-a94d-286717dd3a74",
   "metadata": {},
   "outputs": [
    {
     "data": {
      "text/plain": [
       "0      0\n",
       "1      1\n",
       "2      1\n",
       "3      0\n",
       "4      1\n",
       "      ..\n",
       "173    0\n",
       "174    0\n",
       "175    0\n",
       "176    0\n",
       "177    0\n",
       "Name: health_status, Length: 178, dtype: int64"
      ]
     },
     "execution_count": 25,
     "metadata": {},
     "output_type": "execute_result"
    }
   ],
   "source": [
    "df['health_status']"
   ]
  },
  {
   "cell_type": "markdown",
   "id": "d49a87aa-232c-41aa-88ab-e45b58a7073c",
   "metadata": {},
   "source": [
    "Changing datatype of 'health_status' feature to integer"
   ]
  },
  {
   "cell_type": "code",
   "execution_count": 26,
   "id": "4a75706e-0684-4b87-af6c-e68f66bbd389",
   "metadata": {},
   "outputs": [
    {
     "data": {
      "text/plain": [
       "dtype('int32')"
      ]
     },
     "execution_count": 26,
     "metadata": {},
     "output_type": "execute_result"
    }
   ],
   "source": [
    "df['health_status'] = df['health_status'].astype(int)\n",
    "df['health_status'].dtype"
   ]
  },
  {
   "cell_type": "markdown",
   "id": "85b67334-45f2-438a-8fe9-29855c865c5a",
   "metadata": {},
   "source": [
    "## 8) Train/Test Split"
   ]
  },
  {
   "cell_type": "markdown",
   "id": "43cbb4b5-aac8-49f6-bcfd-8906a5b8171b",
   "metadata": {},
   "source": [
    "#### Seperating 'health_status' column from datafrme and creating a seperate dataframe out of it."
   ]
  },
  {
   "cell_type": "code",
   "execution_count": 27,
   "id": "49a695dc-d2d2-479f-8a09-d86e8554eb98",
   "metadata": {},
   "outputs": [],
   "source": [
    "y = df['health_status']\n",
    "X = df.drop('health_status', axis=1)"
   ]
  },
  {
   "cell_type": "code",
   "execution_count": 28,
   "id": "85ecccdb-6829-424f-b85f-30c0caec1e5f",
   "metadata": {},
   "outputs": [
    {
     "data": {
      "text/html": [
       "<div>\n",
       "<style scoped>\n",
       "    .dataframe tbody tr th:only-of-type {\n",
       "        vertical-align: middle;\n",
       "    }\n",
       "\n",
       "    .dataframe tbody tr th {\n",
       "        vertical-align: top;\n",
       "    }\n",
       "\n",
       "    .dataframe thead th {\n",
       "        text-align: right;\n",
       "    }\n",
       "</style>\n",
       "<table border=\"1\" class=\"dataframe\">\n",
       "  <thead>\n",
       "    <tr style=\"text-align: right;\">\n",
       "      <th></th>\n",
       "      <th>body_temperature</th>\n",
       "      <th>milk_production</th>\n",
       "      <th>respiratory_rate</th>\n",
       "      <th>walking_capacity</th>\n",
       "      <th>sleeping_duration</th>\n",
       "      <th>heart_rate</th>\n",
       "      <th>eating_duration</th>\n",
       "      <th>lying_down_duration</th>\n",
       "      <th>ruminating</th>\n",
       "      <th>rumen_fill</th>\n",
       "      <th>...</th>\n",
       "      <th>body_condition_score_2</th>\n",
       "      <th>body_condition_score_3</th>\n",
       "      <th>body_condition_score_4</th>\n",
       "      <th>body_condition_score_5</th>\n",
       "      <th>faecal_consistency_Black faece</th>\n",
       "      <th>faecal_consistency_Black faeces</th>\n",
       "      <th>faecal_consistency_Fresh blood in faeces</th>\n",
       "      <th>faecal_consistency_extremely firm</th>\n",
       "      <th>faecal_consistency_ideal</th>\n",
       "      <th>faecal_consistency_very liquid faeces</th>\n",
       "    </tr>\n",
       "  </thead>\n",
       "  <tbody>\n",
       "    <tr>\n",
       "      <th>0</th>\n",
       "      <td>38.2</td>\n",
       "      <td>13.6</td>\n",
       "      <td>36</td>\n",
       "      <td>12432</td>\n",
       "      <td>3.5</td>\n",
       "      <td>50</td>\n",
       "      <td>3.2</td>\n",
       "      <td>15.0</td>\n",
       "      <td>6.0</td>\n",
       "      <td>3</td>\n",
       "      <td>...</td>\n",
       "      <td>0</td>\n",
       "      <td>1</td>\n",
       "      <td>0</td>\n",
       "      <td>0</td>\n",
       "      <td>0</td>\n",
       "      <td>0</td>\n",
       "      <td>0</td>\n",
       "      <td>1</td>\n",
       "      <td>0</td>\n",
       "      <td>0</td>\n",
       "    </tr>\n",
       "    <tr>\n",
       "      <th>1</th>\n",
       "      <td>38.9</td>\n",
       "      <td>24.1</td>\n",
       "      <td>37</td>\n",
       "      <td>11987</td>\n",
       "      <td>4.2</td>\n",
       "      <td>62</td>\n",
       "      <td>3.9</td>\n",
       "      <td>12.2</td>\n",
       "      <td>5.8</td>\n",
       "      <td>4</td>\n",
       "      <td>...</td>\n",
       "      <td>1</td>\n",
       "      <td>0</td>\n",
       "      <td>0</td>\n",
       "      <td>0</td>\n",
       "      <td>0</td>\n",
       "      <td>0</td>\n",
       "      <td>0</td>\n",
       "      <td>0</td>\n",
       "      <td>1</td>\n",
       "      <td>0</td>\n",
       "    </tr>\n",
       "    <tr>\n",
       "      <th>2</th>\n",
       "      <td>38.6</td>\n",
       "      <td>14.7</td>\n",
       "      <td>42</td>\n",
       "      <td>13121</td>\n",
       "      <td>3.2</td>\n",
       "      <td>71</td>\n",
       "      <td>3.0</td>\n",
       "      <td>12.6</td>\n",
       "      <td>5.9</td>\n",
       "      <td>2</td>\n",
       "      <td>...</td>\n",
       "      <td>0</td>\n",
       "      <td>1</td>\n",
       "      <td>0</td>\n",
       "      <td>0</td>\n",
       "      <td>0</td>\n",
       "      <td>0</td>\n",
       "      <td>0</td>\n",
       "      <td>0</td>\n",
       "      <td>1</td>\n",
       "      <td>0</td>\n",
       "    </tr>\n",
       "    <tr>\n",
       "      <th>3</th>\n",
       "      <td>39.5</td>\n",
       "      <td>26.2</td>\n",
       "      <td>29</td>\n",
       "      <td>12055</td>\n",
       "      <td>3.8</td>\n",
       "      <td>68</td>\n",
       "      <td>3.6</td>\n",
       "      <td>13.5</td>\n",
       "      <td>6.0</td>\n",
       "      <td>2</td>\n",
       "      <td>...</td>\n",
       "      <td>0</td>\n",
       "      <td>0</td>\n",
       "      <td>1</td>\n",
       "      <td>0</td>\n",
       "      <td>1</td>\n",
       "      <td>0</td>\n",
       "      <td>0</td>\n",
       "      <td>0</td>\n",
       "      <td>0</td>\n",
       "      <td>0</td>\n",
       "    </tr>\n",
       "    <tr>\n",
       "      <th>4</th>\n",
       "      <td>39.7</td>\n",
       "      <td>22.5</td>\n",
       "      <td>48</td>\n",
       "      <td>10352</td>\n",
       "      <td>4.6</td>\n",
       "      <td>63</td>\n",
       "      <td>3.1</td>\n",
       "      <td>13.5</td>\n",
       "      <td>6.3</td>\n",
       "      <td>5</td>\n",
       "      <td>...</td>\n",
       "      <td>1</td>\n",
       "      <td>0</td>\n",
       "      <td>0</td>\n",
       "      <td>0</td>\n",
       "      <td>0</td>\n",
       "      <td>0</td>\n",
       "      <td>0</td>\n",
       "      <td>0</td>\n",
       "      <td>1</td>\n",
       "      <td>0</td>\n",
       "    </tr>\n",
       "    <tr>\n",
       "      <th>...</th>\n",
       "      <td>...</td>\n",
       "      <td>...</td>\n",
       "      <td>...</td>\n",
       "      <td>...</td>\n",
       "      <td>...</td>\n",
       "      <td>...</td>\n",
       "      <td>...</td>\n",
       "      <td>...</td>\n",
       "      <td>...</td>\n",
       "      <td>...</td>\n",
       "      <td>...</td>\n",
       "      <td>...</td>\n",
       "      <td>...</td>\n",
       "      <td>...</td>\n",
       "      <td>...</td>\n",
       "      <td>...</td>\n",
       "      <td>...</td>\n",
       "      <td>...</td>\n",
       "      <td>...</td>\n",
       "      <td>...</td>\n",
       "      <td>...</td>\n",
       "    </tr>\n",
       "    <tr>\n",
       "      <th>173</th>\n",
       "      <td>39.9</td>\n",
       "      <td>6.8</td>\n",
       "      <td>28</td>\n",
       "      <td>6942</td>\n",
       "      <td>7.1</td>\n",
       "      <td>47</td>\n",
       "      <td>1.9</td>\n",
       "      <td>15.0</td>\n",
       "      <td>3.1</td>\n",
       "      <td>3</td>\n",
       "      <td>...</td>\n",
       "      <td>0</td>\n",
       "      <td>0</td>\n",
       "      <td>1</td>\n",
       "      <td>0</td>\n",
       "      <td>0</td>\n",
       "      <td>0</td>\n",
       "      <td>1</td>\n",
       "      <td>0</td>\n",
       "      <td>0</td>\n",
       "      <td>0</td>\n",
       "    </tr>\n",
       "    <tr>\n",
       "      <th>174</th>\n",
       "      <td>40.2</td>\n",
       "      <td>7.2</td>\n",
       "      <td>20</td>\n",
       "      <td>6652</td>\n",
       "      <td>6.5</td>\n",
       "      <td>41</td>\n",
       "      <td>2.0</td>\n",
       "      <td>15.5</td>\n",
       "      <td>3.6</td>\n",
       "      <td>4</td>\n",
       "      <td>...</td>\n",
       "      <td>0</td>\n",
       "      <td>0</td>\n",
       "      <td>1</td>\n",
       "      <td>0</td>\n",
       "      <td>0</td>\n",
       "      <td>1</td>\n",
       "      <td>0</td>\n",
       "      <td>0</td>\n",
       "      <td>0</td>\n",
       "      <td>0</td>\n",
       "    </tr>\n",
       "    <tr>\n",
       "      <th>175</th>\n",
       "      <td>39.8</td>\n",
       "      <td>7.7</td>\n",
       "      <td>16</td>\n",
       "      <td>6705</td>\n",
       "      <td>6.6</td>\n",
       "      <td>37</td>\n",
       "      <td>2.6</td>\n",
       "      <td>14.8</td>\n",
       "      <td>4.2</td>\n",
       "      <td>3</td>\n",
       "      <td>...</td>\n",
       "      <td>0</td>\n",
       "      <td>1</td>\n",
       "      <td>0</td>\n",
       "      <td>0</td>\n",
       "      <td>0</td>\n",
       "      <td>0</td>\n",
       "      <td>0</td>\n",
       "      <td>1</td>\n",
       "      <td>0</td>\n",
       "      <td>0</td>\n",
       "    </tr>\n",
       "    <tr>\n",
       "      <th>176</th>\n",
       "      <td>39.5</td>\n",
       "      <td>5.7</td>\n",
       "      <td>21</td>\n",
       "      <td>6272</td>\n",
       "      <td>6.8</td>\n",
       "      <td>45</td>\n",
       "      <td>2.2</td>\n",
       "      <td>15.0</td>\n",
       "      <td>3.1</td>\n",
       "      <td>2</td>\n",
       "      <td>...</td>\n",
       "      <td>0</td>\n",
       "      <td>1</td>\n",
       "      <td>0</td>\n",
       "      <td>0</td>\n",
       "      <td>0</td>\n",
       "      <td>0</td>\n",
       "      <td>0</td>\n",
       "      <td>0</td>\n",
       "      <td>0</td>\n",
       "      <td>1</td>\n",
       "    </tr>\n",
       "    <tr>\n",
       "      <th>177</th>\n",
       "      <td>39.6</td>\n",
       "      <td>5.1</td>\n",
       "      <td>20</td>\n",
       "      <td>5289</td>\n",
       "      <td>6.1</td>\n",
       "      <td>42</td>\n",
       "      <td>1.6</td>\n",
       "      <td>16.3</td>\n",
       "      <td>3.0</td>\n",
       "      <td>1</td>\n",
       "      <td>...</td>\n",
       "      <td>0</td>\n",
       "      <td>0</td>\n",
       "      <td>0</td>\n",
       "      <td>0</td>\n",
       "      <td>0</td>\n",
       "      <td>0</td>\n",
       "      <td>0</td>\n",
       "      <td>0</td>\n",
       "      <td>0</td>\n",
       "      <td>1</td>\n",
       "    </tr>\n",
       "  </tbody>\n",
       "</table>\n",
       "<p>178 rows × 23 columns</p>\n",
       "</div>"
      ],
      "text/plain": [
       "     body_temperature  milk_production  respiratory_rate  walking_capacity  \\\n",
       "0                38.2             13.6                36             12432   \n",
       "1                38.9             24.1                37             11987   \n",
       "2                38.6             14.7                42             13121   \n",
       "3                39.5             26.2                29             12055   \n",
       "4                39.7             22.5                48             10352   \n",
       "..                ...              ...               ...               ...   \n",
       "173              39.9              6.8                28              6942   \n",
       "174              40.2              7.2                20              6652   \n",
       "175              39.8              7.7                16              6705   \n",
       "176              39.5              5.7                21              6272   \n",
       "177              39.6              5.1                20              5289   \n",
       "\n",
       "     sleeping_duration  heart_rate  eating_duration  lying_down_duration  \\\n",
       "0                  3.5          50              3.2                 15.0   \n",
       "1                  4.2          62              3.9                 12.2   \n",
       "2                  3.2          71              3.0                 12.6   \n",
       "3                  3.8          68              3.6                 13.5   \n",
       "4                  4.6          63              3.1                 13.5   \n",
       "..                 ...         ...              ...                  ...   \n",
       "173                7.1          47              1.9                 15.0   \n",
       "174                6.5          41              2.0                 15.5   \n",
       "175                6.6          37              2.6                 14.8   \n",
       "176                6.8          45              2.2                 15.0   \n",
       "177                6.1          42              1.6                 16.3   \n",
       "\n",
       "     ruminating  rumen_fill  ...  body_condition_score_2  \\\n",
       "0           6.0           3  ...                       0   \n",
       "1           5.8           4  ...                       1   \n",
       "2           5.9           2  ...                       0   \n",
       "3           6.0           2  ...                       0   \n",
       "4           6.3           5  ...                       1   \n",
       "..          ...         ...  ...                     ...   \n",
       "173         3.1           3  ...                       0   \n",
       "174         3.6           4  ...                       0   \n",
       "175         4.2           3  ...                       0   \n",
       "176         3.1           2  ...                       0   \n",
       "177         3.0           1  ...                       0   \n",
       "\n",
       "     body_condition_score_3  body_condition_score_4  body_condition_score_5  \\\n",
       "0                         1                       0                       0   \n",
       "1                         0                       0                       0   \n",
       "2                         1                       0                       0   \n",
       "3                         0                       1                       0   \n",
       "4                         0                       0                       0   \n",
       "..                      ...                     ...                     ...   \n",
       "173                       0                       1                       0   \n",
       "174                       0                       1                       0   \n",
       "175                       1                       0                       0   \n",
       "176                       1                       0                       0   \n",
       "177                       0                       0                       0   \n",
       "\n",
       "     faecal_consistency_Black faece  faecal_consistency_Black faeces  \\\n",
       "0                                 0                                0   \n",
       "1                                 0                                0   \n",
       "2                                 0                                0   \n",
       "3                                 1                                0   \n",
       "4                                 0                                0   \n",
       "..                              ...                              ...   \n",
       "173                               0                                0   \n",
       "174                               0                                1   \n",
       "175                               0                                0   \n",
       "176                               0                                0   \n",
       "177                               0                                0   \n",
       "\n",
       "     faecal_consistency_Fresh blood in faeces  \\\n",
       "0                                           0   \n",
       "1                                           0   \n",
       "2                                           0   \n",
       "3                                           0   \n",
       "4                                           0   \n",
       "..                                        ...   \n",
       "173                                         1   \n",
       "174                                         0   \n",
       "175                                         0   \n",
       "176                                         0   \n",
       "177                                         0   \n",
       "\n",
       "     faecal_consistency_extremely firm  faecal_consistency_ideal  \\\n",
       "0                                    1                         0   \n",
       "1                                    0                         1   \n",
       "2                                    0                         1   \n",
       "3                                    0                         0   \n",
       "4                                    0                         1   \n",
       "..                                 ...                       ...   \n",
       "173                                  0                         0   \n",
       "174                                  0                         0   \n",
       "175                                  1                         0   \n",
       "176                                  0                         0   \n",
       "177                                  0                         0   \n",
       "\n",
       "     faecal_consistency_very liquid faeces  \n",
       "0                                        0  \n",
       "1                                        0  \n",
       "2                                        0  \n",
       "3                                        0  \n",
       "4                                        0  \n",
       "..                                     ...  \n",
       "173                                      0  \n",
       "174                                      0  \n",
       "175                                      0  \n",
       "176                                      1  \n",
       "177                                      1  \n",
       "\n",
       "[178 rows x 23 columns]"
      ]
     },
     "execution_count": 28,
     "metadata": {},
     "output_type": "execute_result"
    }
   ],
   "source": [
    "X"
   ]
  },
  {
   "cell_type": "code",
   "execution_count": 29,
   "id": "3b0d5e36-308a-4c11-b377-936fe5b29434",
   "metadata": {},
   "outputs": [
    {
     "data": {
      "text/plain": [
       "0      0\n",
       "1      1\n",
       "2      1\n",
       "3      0\n",
       "4      1\n",
       "      ..\n",
       "173    0\n",
       "174    0\n",
       "175    0\n",
       "176    0\n",
       "177    0\n",
       "Name: health_status, Length: 178, dtype: int32"
      ]
     },
     "execution_count": 29,
     "metadata": {},
     "output_type": "execute_result"
    }
   ],
   "source": [
    "y"
   ]
  },
  {
   "cell_type": "code",
   "execution_count": 30,
   "id": "c8bc4d00-1bb9-4d86-a315-d5910349ad2a",
   "metadata": {},
   "outputs": [],
   "source": [
    "scaler = StandardScaler()\n",
    "X_scaled = scaler.fit_transform(X)"
   ]
  },
  {
   "cell_type": "code",
   "execution_count": 31,
   "id": "0086ea21-8e67-438e-a702-e2f168bd59c3",
   "metadata": {},
   "outputs": [
    {
     "data": {
      "text/plain": [
       "array([[-0.93269978, -0.17746918,  0.75089852, ...,  2.53311403,\n",
       "        -1.01129979, -0.35578403],\n",
       "       [-0.12789097,  1.41413304,  0.85355592, ..., -0.39477102,\n",
       "         0.98882646, -0.35578403],\n",
       "       [-0.47280903, -0.0107299 ,  1.36684292, ..., -0.39477102,\n",
       "         0.98882646, -0.35578403],\n",
       "       ...,\n",
       "       [ 0.90686322, -1.07179805, -1.3022495 , ...,  2.53311403,\n",
       "        -1.01129979, -0.35578403],\n",
       "       [ 0.56194516, -1.37496038, -0.7889625 , ..., -0.39477102,\n",
       "        -1.01129979,  2.81069386],\n",
       "       [ 0.67691784, -1.46590908, -0.8916199 , ..., -0.39477102,\n",
       "        -1.01129979,  2.81069386]])"
      ]
     },
     "execution_count": 31,
     "metadata": {},
     "output_type": "execute_result"
    }
   ],
   "source": [
    "X_scaled"
   ]
  },
  {
   "cell_type": "markdown",
   "id": "7307df64-1b69-4e9c-9b4e-cfd9c4244211",
   "metadata": {},
   "source": [
    "#### Taking 30% of dataframe as testing and 70% as training."
   ]
  },
  {
   "cell_type": "code",
   "execution_count": 32,
   "id": "3d8b5db2-fc0a-4b35-babd-dfc467439cce",
   "metadata": {},
   "outputs": [],
   "source": [
    "X_train, X_test, y_train, y_test = train_test_split(X_scaled, y, test_size=0.30, random_state=None)"
   ]
  },
  {
   "cell_type": "code",
   "execution_count": 33,
   "id": "0328078d-ad8a-4c81-883f-3239056353bf",
   "metadata": {},
   "outputs": [
    {
     "data": {
      "text/plain": [
       "array([[ 0.67691784,  0.0802188 , -0.48099029, ..., -0.39477102,\n",
       "        -1.01129979, -0.35578403],\n",
       "       [ 0.67691784, -1.45075096, -1.1995921 , ..., -0.39477102,\n",
       "        -1.01129979,  2.81069386],\n",
       "       [-0.81772709,  1.64150479,  0.34026891, ..., -0.39477102,\n",
       "         0.98882646, -0.35578403],\n",
       "       ...,\n",
       "       [ 0.79189053, -1.43559285, -1.4049069 , ...,  2.53311403,\n",
       "        -1.01129979, -0.35578403],\n",
       "       [ 1.13680859,  0.06506068, -1.3022495 , ...,  2.53311403,\n",
       "        -1.01129979, -0.35578403],\n",
       "       [-0.93269978, -0.54126398,  1.36684292, ..., -0.39477102,\n",
       "         0.98882646, -0.35578403]])"
      ]
     },
     "execution_count": 33,
     "metadata": {},
     "output_type": "execute_result"
    }
   ],
   "source": [
    "X_train"
   ]
  },
  {
   "cell_type": "code",
   "execution_count": 34,
   "id": "85062706-932c-4ee4-a2b3-6a4bd2996b00",
   "metadata": {},
   "outputs": [
    {
     "data": {
      "text/plain": [
       "118    0\n",
       "75     0\n",
       "95     1\n",
       "145    1\n",
       "171    0\n",
       "      ..\n",
       "84     0\n",
       "14     1\n",
       "81     0\n",
       "131    0\n",
       "48     1\n",
       "Name: health_status, Length: 124, dtype: int32"
      ]
     },
     "execution_count": 34,
     "metadata": {},
     "output_type": "execute_result"
    }
   ],
   "source": [
    "y_train"
   ]
  },
  {
   "cell_type": "code",
   "execution_count": 35,
   "id": "86c0f0d9-5e6d-4e38-8008-6ec8f16952a5",
   "metadata": {},
   "outputs": [
    {
     "name": "stdout",
     "output_type": "stream",
     "text": [
      "(124, 23)\n",
      "(124,)\n"
     ]
    }
   ],
   "source": [
    "print(X_train.shape)\n",
    "print(y_train.shape)"
   ]
  },
  {
   "cell_type": "code",
   "execution_count": 36,
   "id": "572b708e-7dfb-4d09-8efb-5f7bbd3aed99",
   "metadata": {},
   "outputs": [
    {
     "data": {
      "text/plain": [
       "array([[ 0.79189053,  1.17160318,  1.98278733, ..., -0.39477102,\n",
       "         0.98882646, -0.35578403],\n",
       "       [-0.47280903, -0.64737079,  0.03229671, ..., -0.39477102,\n",
       "         0.98882646, -0.35578403],\n",
       "       [ 1.02183591, -1.31432792, -1.5075643 , ...,  2.53311403,\n",
       "        -1.01129979, -0.35578403],\n",
       "       ...,\n",
       "       [ 0.90686322, -1.31432792, -1.3022495 , ..., -0.39477102,\n",
       "        -1.01129979, -0.35578403],\n",
       "       [ 0.90686322,  0.17116749, -1.3022495 , ..., -0.39477102,\n",
       "        -1.01129979, -0.35578403],\n",
       "       [-0.58778172,  1.71729537,  0.64824112, ..., -0.39477102,\n",
       "         0.98882646, -0.35578403]])"
      ]
     },
     "execution_count": 36,
     "metadata": {},
     "output_type": "execute_result"
    }
   ],
   "source": [
    "X_test"
   ]
  },
  {
   "cell_type": "code",
   "execution_count": 37,
   "id": "0349a861-3898-4e59-a05d-d1d0128be8bc",
   "metadata": {},
   "outputs": [
    {
     "data": {
      "text/plain": [
       "93     1\n",
       "143    1\n",
       "79     0\n",
       "20     1\n",
       "101    1\n",
       "148    1\n",
       "44     0\n",
       "135    0\n",
       "163    0\n",
       "23     1\n",
       "169    0\n",
       "19     1\n",
       "90     1\n",
       "130    0\n",
       "26     1\n",
       "46     0\n",
       "43     0\n",
       "153    1\n",
       "37     0\n",
       "134    0\n",
       "173    0\n",
       "113    1\n",
       "121    0\n",
       "1      1\n",
       "164    0\n",
       "25     1\n",
       "53     1\n",
       "22     1\n",
       "91     1\n",
       "33     0\n",
       "4      1\n",
       "74     0\n",
       "99     1\n",
       "87     0\n",
       "166    0\n",
       "123    0\n",
       "176    0\n",
       "17     1\n",
       "115    1\n",
       "35     0\n",
       "52     1\n",
       "127    0\n",
       "73     0\n",
       "55     1\n",
       "9      1\n",
       "66     1\n",
       "161    0\n",
       "112    1\n",
       "147    1\n",
       "2      1\n",
       "15     1\n",
       "76     0\n",
       "125    0\n",
       "105    1\n",
       "Name: health_status, dtype: int32"
      ]
     },
     "execution_count": 37,
     "metadata": {},
     "output_type": "execute_result"
    }
   ],
   "source": [
    "y_test"
   ]
  },
  {
   "cell_type": "code",
   "execution_count": 38,
   "id": "e01b5d08-c954-410b-94e2-6ee21adb180c",
   "metadata": {},
   "outputs": [
    {
     "name": "stdout",
     "output_type": "stream",
     "text": [
      "(54, 23)\n",
      "(54,)\n"
     ]
    }
   ],
   "source": [
    "print(X_test.shape)\n",
    "print(y_test.shape)"
   ]
  },
  {
   "cell_type": "markdown",
   "id": "2571d80f-15e1-4665-af98-24622fc66116",
   "metadata": {},
   "source": [
    "## 9) Building the model"
   ]
  },
  {
   "cell_type": "code",
   "execution_count": 39,
   "id": "5080acf7-ec53-425c-8002-4432d889905a",
   "metadata": {},
   "outputs": [
    {
     "name": "stderr",
     "output_type": "stream",
     "text": [
      "C:\\Users\\dell\\AppData\\Roaming\\Python\\Python312\\site-packages\\keras\\src\\layers\\reshaping\\flatten.py:37: UserWarning: Do not pass an `input_shape`/`input_dim` argument to a layer. When using Sequential models, prefer using an `Input(shape)` object as the first layer in the model instead.\n",
      "  super().__init__(**kwargs)\n",
      "C:\\Users\\dell\\AppData\\Roaming\\Python\\Python312\\site-packages\\keras\\src\\layers\\core\\dense.py:87: UserWarning: Do not pass an `input_shape`/`input_dim` argument to a layer. When using Sequential models, prefer using an `Input(shape)` object as the first layer in the model instead.\n",
      "  super().__init__(activity_regularizer=activity_regularizer, **kwargs)\n"
     ]
    }
   ],
   "source": [
    "model = keras.Sequential([\n",
    "    keras.layers.Flatten(input_shape=(X_train.shape[1],)),\n",
    "    keras.layers.Dense(64, input_shape=(X_train.shape[1],), activation='relu'),\n",
    "    keras.layers.Dense(32, activation='relu'),\n",
    "    keras.layers.Dense(len(y.unique()), activation='softmax')\n",
    "])\n",
    "\n",
    "model.compile(\n",
    "    optimizer='adam',\n",
    "    loss='sparse_categorical_crossentropy',\n",
    "    metrics=['accuracy']\n",
    ")"
   ]
  },
  {
   "cell_type": "markdown",
   "id": "cbaa3621-66a4-4e71-a762-fb53ad177aa2",
   "metadata": {},
   "source": [
    "## 10) Training the model"
   ]
  },
  {
   "cell_type": "code",
   "execution_count": 40,
   "id": "43e0c618-a0cc-43bd-9e8e-a79f4f44ce4f",
   "metadata": {},
   "outputs": [
    {
     "name": "stdout",
     "output_type": "stream",
     "text": [
      "Epoch 1/5\n",
      "\u001b[1m4/4\u001b[0m \u001b[32m━━━━━━━━━━━━━━━━━━━━\u001b[0m\u001b[37m\u001b[0m \u001b[1m2s\u001b[0m 7ms/step - accuracy: 0.7383 - loss: 0.6335\n",
      "Epoch 2/5\n",
      "\u001b[1m4/4\u001b[0m \u001b[32m━━━━━━━━━━━━━━━━━━━━\u001b[0m\u001b[37m\u001b[0m \u001b[1m0s\u001b[0m 4ms/step - accuracy: 0.8495 - loss: 0.5079 \n",
      "Epoch 3/5\n",
      "\u001b[1m4/4\u001b[0m \u001b[32m━━━━━━━━━━━━━━━━━━━━\u001b[0m\u001b[37m\u001b[0m \u001b[1m0s\u001b[0m 5ms/step - accuracy: 0.9515 - loss: 0.3909 \n",
      "Epoch 4/5\n",
      "\u001b[1m4/4\u001b[0m \u001b[32m━━━━━━━━━━━━━━━━━━━━\u001b[0m\u001b[37m\u001b[0m \u001b[1m0s\u001b[0m 3ms/step - accuracy: 0.9756 - loss: 0.2956 \n",
      "Epoch 5/5\n",
      "\u001b[1m4/4\u001b[0m \u001b[32m━━━━━━━━━━━━━━━━━━━━\u001b[0m\u001b[37m\u001b[0m \u001b[1m0s\u001b[0m 4ms/step - accuracy: 0.9694 - loss: 0.2533 \n"
     ]
    },
    {
     "data": {
      "text/plain": [
       "<keras.src.callbacks.history.History at 0x128bdf60dd0>"
      ]
     },
     "execution_count": 40,
     "metadata": {},
     "output_type": "execute_result"
    }
   ],
   "source": [
    "model.fit(X_train, y_train, epochs=5)"
   ]
  },
  {
   "cell_type": "markdown",
   "id": "a887c32a-2233-4038-a10c-7c544e0bf734",
   "metadata": {},
   "source": [
    "## 11) Testing the model"
   ]
  },
  {
   "cell_type": "code",
   "execution_count": 41,
   "id": "a05006de-8bb3-43c7-86d5-ba368e6efb5e",
   "metadata": {},
   "outputs": [
    {
     "name": "stdout",
     "output_type": "stream",
     "text": [
      "\u001b[1m2/2\u001b[0m \u001b[32m━━━━━━━━━━━━━━━━━━━━\u001b[0m\u001b[37m\u001b[0m \u001b[1m0s\u001b[0m 8ms/step - accuracy: 1.0000 - loss: 0.1760  \n"
     ]
    },
    {
     "data": {
      "text/plain": [
       "[0.1744469553232193, 1.0]"
      ]
     },
     "execution_count": 41,
     "metadata": {},
     "output_type": "execute_result"
    }
   ],
   "source": [
    "model.evaluate(X_test, y_test)"
   ]
  },
  {
   "cell_type": "code",
   "execution_count": 42,
   "id": "9f515ba6-bbcc-48f3-a81b-5315e683ba45",
   "metadata": {},
   "outputs": [
    {
     "name": "stdout",
     "output_type": "stream",
     "text": [
      "\u001b[1m2/2\u001b[0m \u001b[32m━━━━━━━━━━━━━━━━━━━━\u001b[0m\u001b[37m\u001b[0m \u001b[1m0s\u001b[0m 75ms/step\n"
     ]
    }
   ],
   "source": [
    "y_predicted = model.predict(X_test)"
   ]
  },
  {
   "cell_type": "code",
   "execution_count": 43,
   "id": "41b73a23-e5d2-4f52-9fdc-958da62be679",
   "metadata": {},
   "outputs": [
    {
     "data": {
      "text/plain": [
       "array([0.14417681, 0.8558232 ], dtype=float32)"
      ]
     },
     "execution_count": 43,
     "metadata": {},
     "output_type": "execute_result"
    }
   ],
   "source": [
    "y_predicted[0]"
   ]
  },
  {
   "cell_type": "markdown",
   "id": "dac80b1f-00d7-44b1-9be2-63ea0173ca78",
   "metadata": {},
   "source": [
    "Here we are checking some cases that our model predictions are right or not."
   ]
  },
  {
   "cell_type": "code",
   "execution_count": 44,
   "id": "86a264db-e8ac-4634-adec-62ba8e967090",
   "metadata": {},
   "outputs": [
    {
     "data": {
      "text/plain": [
       "1"
      ]
     },
     "execution_count": 44,
     "metadata": {},
     "output_type": "execute_result"
    }
   ],
   "source": [
    "np.argmax(y_predicted[0])"
   ]
  },
  {
   "cell_type": "code",
   "execution_count": 45,
   "id": "eef7d766-0e49-4a46-a53b-b8410f3def63",
   "metadata": {},
   "outputs": [
    {
     "data": {
      "text/plain": [
       "1"
      ]
     },
     "execution_count": 45,
     "metadata": {},
     "output_type": "execute_result"
    }
   ],
   "source": [
    "y_test.iloc[0]"
   ]
  },
  {
   "cell_type": "code",
   "execution_count": 46,
   "id": "5c323ee7-0efb-4c18-b015-1570323aa117",
   "metadata": {},
   "outputs": [
    {
     "data": {
      "text/plain": [
       "1"
      ]
     },
     "execution_count": 46,
     "metadata": {},
     "output_type": "execute_result"
    }
   ],
   "source": [
    "np.argmax(y_predicted[11])"
   ]
  },
  {
   "cell_type": "code",
   "execution_count": 47,
   "id": "146814d2-0abe-4e87-949c-9b6014b6023b",
   "metadata": {},
   "outputs": [
    {
     "data": {
      "text/plain": [
       "1"
      ]
     },
     "execution_count": 47,
     "metadata": {},
     "output_type": "execute_result"
    }
   ],
   "source": [
    "y_test.iloc[11]"
   ]
  },
  {
   "cell_type": "code",
   "execution_count": 48,
   "id": "a1a6bf75-9ea4-4bad-9c66-df85b5ec77ed",
   "metadata": {},
   "outputs": [
    {
     "data": {
      "text/plain": [
       "1"
      ]
     },
     "execution_count": 48,
     "metadata": {},
     "output_type": "execute_result"
    }
   ],
   "source": [
    "np.argmax(y_predicted[53])"
   ]
  },
  {
   "cell_type": "code",
   "execution_count": 49,
   "id": "f54a9184-777e-4ce3-be74-05b11eac04dc",
   "metadata": {},
   "outputs": [
    {
     "data": {
      "text/plain": [
       "1"
      ]
     },
     "execution_count": 49,
     "metadata": {},
     "output_type": "execute_result"
    }
   ],
   "source": [
    "y_test.iloc[53]"
   ]
  },
  {
   "cell_type": "code",
   "execution_count": 50,
   "id": "a3f8e192-dc85-4ade-8a2a-4bdfa14995bf",
   "metadata": {},
   "outputs": [
    {
     "data": {
      "text/plain": [
       "1"
      ]
     },
     "execution_count": 50,
     "metadata": {},
     "output_type": "execute_result"
    }
   ],
   "source": [
    "np.argmax(y_predicted[1])"
   ]
  },
  {
   "cell_type": "code",
   "execution_count": 51,
   "id": "d7bd3307-369f-4116-a0a2-39a41c3c3476",
   "metadata": {},
   "outputs": [
    {
     "data": {
      "text/plain": [
       "1"
      ]
     },
     "execution_count": 51,
     "metadata": {},
     "output_type": "execute_result"
    }
   ],
   "source": [
    "y_test.iloc[1]"
   ]
  },
  {
   "cell_type": "code",
   "execution_count": 52,
   "id": "87f3c31e-2eb9-4571-8c25-2459fc9bacd6",
   "metadata": {},
   "outputs": [
    {
     "data": {
      "text/plain": [
       "1"
      ]
     },
     "execution_count": 52,
     "metadata": {},
     "output_type": "execute_result"
    }
   ],
   "source": [
    "np.argmax(y_predicted[50])"
   ]
  },
  {
   "cell_type": "code",
   "execution_count": 53,
   "id": "14b39465-fbce-4766-bbcb-217fb5e64797",
   "metadata": {},
   "outputs": [
    {
     "data": {
      "text/plain": [
       "1"
      ]
     },
     "execution_count": 53,
     "metadata": {},
     "output_type": "execute_result"
    }
   ],
   "source": [
    "y_test.iloc[50]"
   ]
  },
  {
   "cell_type": "markdown",
   "id": "dc164853-be62-482c-b007-16acd4a58400",
   "metadata": {},
   "source": [
    "### Making the confusion matrix to see model accuracy"
   ]
  },
  {
   "cell_type": "markdown",
   "id": "25e4cba5-53c6-40ff-8868-9794b13719c5",
   "metadata": {},
   "source": [
    "Making the predecdiction to original form"
   ]
  },
  {
   "cell_type": "code",
   "execution_count": 54,
   "id": "e17c1e25-ff79-44d1-bab2-8d3896dbcba5",
   "metadata": {},
   "outputs": [
    {
     "data": {
      "text/plain": [
       "[1,\n",
       " 1,\n",
       " 0,\n",
       " 1,\n",
       " 1,\n",
       " 1,\n",
       " 0,\n",
       " 0,\n",
       " 0,\n",
       " 1,\n",
       " 0,\n",
       " 1,\n",
       " 1,\n",
       " 0,\n",
       " 1,\n",
       " 0,\n",
       " 0,\n",
       " 1,\n",
       " 0,\n",
       " 0,\n",
       " 0,\n",
       " 1,\n",
       " 0,\n",
       " 1,\n",
       " 0,\n",
       " 1,\n",
       " 1,\n",
       " 1,\n",
       " 1,\n",
       " 0,\n",
       " 1,\n",
       " 0,\n",
       " 1,\n",
       " 0,\n",
       " 0,\n",
       " 0,\n",
       " 0,\n",
       " 1,\n",
       " 1,\n",
       " 0,\n",
       " 1,\n",
       " 0,\n",
       " 0,\n",
       " 1,\n",
       " 1,\n",
       " 1,\n",
       " 0,\n",
       " 1,\n",
       " 1,\n",
       " 1,\n",
       " 1,\n",
       " 0,\n",
       " 0,\n",
       " 1]"
      ]
     },
     "execution_count": 54,
     "metadata": {},
     "output_type": "execute_result"
    }
   ],
   "source": [
    "y_predicted_labels = [np.argmax(i) for i in y_predicted]\n",
    "y_predicted_labels"
   ]
  },
  {
   "cell_type": "code",
   "execution_count": 55,
   "id": "5544ab04-a265-4cd6-a8b1-2afefc8c3a70",
   "metadata": {},
   "outputs": [
    {
     "data": {
      "text/plain": [
       "<tf.Tensor: shape=(2, 2), dtype=int32, numpy=\n",
       "array([[25,  0],\n",
       "       [ 0, 29]])>"
      ]
     },
     "execution_count": 55,
     "metadata": {},
     "output_type": "execute_result"
    }
   ],
   "source": [
    "cm = tf.math.confusion_matrix(labels=y_test,predictions=y_predicted_labels)\n",
    "cm"
   ]
  },
  {
   "cell_type": "code",
   "execution_count": 56,
   "id": "5e4fd1fc-6624-4073-9e99-dd1cdca1df07",
   "metadata": {},
   "outputs": [
    {
     "data": {
      "text/plain": [
       "Text(95.72222222222221, 0.5, 'Truth')"
      ]
     },
     "execution_count": 56,
     "metadata": {},
     "output_type": "execute_result"
    },
    {
     "data": {
      "image/png": "[encoded data removed]",
      "text/plain": [
       "<Figure size 1000x700 with 2 Axes>"
      ]
     },
     "metadata": {},
     "output_type": "display_data"
    }
   ],
   "source": [
    "import seaborn as sn\n",
    "plt.figure(figsize = (10,7))\n",
    "sn.heatmap(cm, annot=True, fmt='d')\n",
    "plt.xlabel('Predicted')\n",
    "plt.ylabel('Truth')"
   ]
  },
  {
   "cell_type": "code",
   "execution_count": null,
   "id": "d67629ea-08b2-45c4-8f66-ecef398a620f",
   "metadata": {},
   "outputs": [],
   "source": []
  }
 ],
 "metadata": {
  "kernelspec": {
   "display_name": "Python 3 (ipykernel)",
   "language": "python",
   "name": "python3"
  },
  "language_info": {
   "codemirror_mode": {
    "name": "ipython",
    "version": 3
   },
   "file_extension": ".py",
   "mimetype": "text/x-python",
   "name": "python",
   "nbconvert_exporter": "python",
   "pygments_lexer": "ipython3",
   "version": "3.12.4"
  }
 },
 "nbformat": 4,
 "nbformat_minor": 5
}
